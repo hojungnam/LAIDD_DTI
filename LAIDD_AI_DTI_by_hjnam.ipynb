{
  "nbformat": 4,
  "nbformat_minor": 0,
  "metadata": {
    "colab": {
      "name": "LAIDD_AI_DTI_by_hjnam.ipynb",
      "provenance": [],
      "collapsed_sections": [],
      "toc_visible": true,
      "authorship_tag": "ABX9TyOUeJbZI/f1coY19EW4MAhs",
      "include_colab_link": true
    },
    "kernelspec": {
      "name": "python3",
      "display_name": "Python 3"
    },
    "language_info": {
      "name": "python"
    }
  },
  "cells": [
    {
      "cell_type": "markdown",
      "metadata": {
        "id": "view-in-github",
        "colab_type": "text"
      },
      "source": [
        "<a href=\"https://colab.research.google.com/github/hojungnam/LAIDD_DTI/blob/main/LAIDD_AI_DTI_by_hjnam.ipynb\" target=\"_parent\"><img src=\"https://colab.research.google.com/assets/colab-badge.svg\" alt=\"Open In Colab\"/></a>"
      ]
    },
    {
      "cell_type": "markdown",
      "metadata": {
        "id": "ItLSmWCiaD2h"
      },
      "source": [
        "## RDkit을 이용한 compound descriptor 생성 예제"
      ]
    },
    {
      "cell_type": "code",
      "metadata": {
        "id": "wHtuvxQ9aGor"
      },
      "source": [
        "!pip install rdkit-pypi # install rdkit"
      ],
      "execution_count": null,
      "outputs": []
    },
    {
      "cell_type": "code",
      "metadata": {
        "id": "CckzvV-ka5-z"
      },
      "source": [
        "from __future__ import absolute_import\n",
        "import rdkit\n",
        "from rdkit import Chem\n",
        "from rdkit.Chem import rdMolDescriptors # Module containing functions to compute molecular descriptors\n",
        "from rdkit.Chem import Descriptors\n",
        "import rdkit.rdBase\n",
        "from rdkit.Chem.MACCSkeys import GenMACCSKeys\n",
        "from rdkit.Chem import AllChem\n",
        "from rdkit.Chem import Draw"
      ],
      "execution_count": null,
      "outputs": []
    },
    {
      "cell_type": "code",
      "metadata": {
        "id": "aY9fVBzZa_SN"
      },
      "source": [
        "# Reading single molecules\n",
        "m = Chem.MolFromSmiles(\"CN1C=NC2=C1C(=O)N(C(=O)N2C)C\") # caffine\n",
        "\n",
        "from rdkit.Chem.Draw import IPythonConsole #Needed to show molecules\n",
        "from rdkit.Chem.Draw.MolDrawing import MolDrawing, DrawingOptions #Only needed if modifying defaults\n",
        "%matplotlib inline\n",
        "m"
      ],
      "execution_count": null,
      "outputs": []
    },
    {
      "cell_type": "code",
      "metadata": {
        "id": "rKTx5g6NbFSC"
      },
      "source": [
        "rdMolDescriptors.CalcExactMolWt(m) # returns the molecule’s exact molecular weight"
      ],
      "execution_count": null,
      "outputs": []
    },
    {
      "cell_type": "code",
      "metadata": {
        "id": "rTfm3RUa6plN"
      },
      "source": [
        "Descriptors.MolLogP(m) "
      ],
      "execution_count": null,
      "outputs": []
    },
    {
      "cell_type": "code",
      "metadata": {
        "id": "oAnD9Spq6shK"
      },
      "source": [
        "rdMolDescriptors.CalcMolFormula(m) # returns the molecule’s formula"
      ],
      "execution_count": null,
      "outputs": []
    },
    {
      "cell_type": "code",
      "metadata": {
        "id": "-Vnmux1D7B5X"
      },
      "source": [
        "rdMolDescriptors.CalcNumHBA(m) # returns the number of H-bond acceptors for a molecule"
      ],
      "execution_count": null,
      "outputs": []
    },
    {
      "cell_type": "code",
      "metadata": {
        "id": "Mm0R86JL7CqF"
      },
      "source": [
        "rdMolDescriptors.CalcNumHBD(m) # returns the number of H-bond donors for a molecule"
      ],
      "execution_count": null,
      "outputs": []
    },
    {
      "cell_type": "code",
      "metadata": {
        "id": "p3x8ujzT7EjE"
      },
      "source": [
        "# molecule into MACCSKey\n",
        "maccs_fp = GenMACCSKeys(m)\n",
        "maccs_fp.ToBitString()"
      ],
      "execution_count": null,
      "outputs": []
    },
    {
      "cell_type": "code",
      "metadata": {
        "id": "IX2aHmKv7Hsx"
      },
      "source": [
        "# molecule into MorganFingerprint\n",
        "morgan_fp = AllChem.GetMorganFingerprintAsBitVect(m,2, nBits=1024)\n",
        "morgan_fp.ToBitString()"
      ],
      "execution_count": null,
      "outputs": []
    },
    {
      "cell_type": "markdown",
      "metadata": {
        "id": "dWTbixJqllZ5"
      },
      "source": [
        "## PyBioMed을 이용한 protein descriptor"
      ]
    },
    {
      "cell_type": "code",
      "metadata": {
        "id": "8frUhPu7lly3"
      },
      "source": [
        "!pip install rdkit-pypi # install rdkit"
      ],
      "execution_count": null,
      "outputs": []
    },
    {
      "cell_type": "code",
      "metadata": {
        "id": "a41kxqzXll1p"
      },
      "source": [
        "!pip install pybel_tools # install pybel"
      ],
      "execution_count": null,
      "outputs": []
    },
    {
      "cell_type": "code",
      "metadata": {
        "id": "9KIJcNpMll4b"
      },
      "source": [
        "!git clone https://github.com/gadsbyfly/PyBioMed.git\n",
        "%cd PyBioMed\n",
        "!python setup.py install"
      ],
      "execution_count": null,
      "outputs": []
    },
    {
      "cell_type": "markdown",
      "metadata": {
        "id": "4b1D2WyCmeTY"
      },
      "source": [
        "### Using PyBioMed - AA composition"
      ]
    },
    {
      "cell_type": "code",
      "metadata": {
        "id": "6X5A3zq5qXQ7"
      },
      "source": [
        "import PyBioMed\n",
        "from PyBioMed.PyProtein import AAComposition"
      ],
      "execution_count": null,
      "outputs": []
    },
    {
      "cell_type": "code",
      "metadata": {
        "id": "p4s1-pcCl8RL"
      },
      "source": [
        "protein=\"AAAAAAAAVGE\"\n",
        "AAC=AAComposition.CalculateAAComposition(protein)\n",
        "print (AAC)"
      ],
      "execution_count": null,
      "outputs": []
    },
    {
      "cell_type": "code",
      "metadata": {
        "id": "XwQpzN5Xl8UL"
      },
      "source": [
        "AAC_D = AAC.values()"
      ],
      "execution_count": null,
      "outputs": []
    },
    {
      "cell_type": "code",
      "metadata": {
        "id": "-nzNtOWYl8WJ"
      },
      "source": [
        "print (AAC_D)"
      ],
      "execution_count": null,
      "outputs": []
    },
    {
      "cell_type": "code",
      "metadata": {
        "id": "NXbr2Vhul8bx"
      },
      "source": [
        "len(AAC)"
      ],
      "execution_count": null,
      "outputs": []
    },
    {
      "cell_type": "code",
      "metadata": {
        "id": "0cbll1gRmDwe"
      },
      "source": [
        "AAD=AAComposition.CalculateAADipeptideComposition(protein)\n",
        "print (AAD)"
      ],
      "execution_count": null,
      "outputs": []
    },
    {
      "cell_type": "code",
      "metadata": {
        "id": "Tkitcy89mDzU"
      },
      "source": [
        "len(AAD)"
      ],
      "execution_count": null,
      "outputs": []
    },
    {
      "cell_type": "markdown",
      "metadata": {
        "id": "60txaLM0mMqD"
      },
      "source": [
        "### Using PyBioMed - CTD descriptor"
      ]
    },
    {
      "cell_type": "code",
      "metadata": {
        "id": "Ec8jogaimD2L"
      },
      "source": [
        "from PyBioMed.PyProtein import CTD\n",
        "\n",
        "protein=\"AAAAAAAAVGE\"\n",
        "protein_descriptor = CTD.CalculateCTD(protein)\n",
        "print (protein_descriptor)"
      ],
      "execution_count": null,
      "outputs": []
    },
    {
      "cell_type": "code",
      "metadata": {
        "id": "t1hwWm8WmD4E"
      },
      "source": [
        "print (len(protein_descriptor))"
      ],
      "execution_count": null,
      "outputs": []
    },
    {
      "cell_type": "code",
      "metadata": {
        "id": "guwMv99Pll96"
      },
      "source": [
        "protein_descriptor"
      ],
      "execution_count": null,
      "outputs": []
    },
    {
      "cell_type": "code",
      "metadata": {
        "id": "tzi1aHjhTnyu"
      },
      "source": [
        "protein_descriptor_v = protein_descriptor.values()\n",
        "print (protein_descriptor_v)"
      ],
      "execution_count": null,
      "outputs": []
    },
    {
      "cell_type": "markdown",
      "metadata": {
        "id": "qTqzmUSd8EZF"
      },
      "source": [
        "## Protein embedding 예제\n"
      ]
    },
    {
      "cell_type": "markdown",
      "metadata": {
        "id": "qfnawWX8AP92"
      },
      "source": [
        "### example - 1 hot embedding"
      ]
    },
    {
      "cell_type": "code",
      "metadata": {
        "id": "Ju3iBhQgR3Lg"
      },
      "source": [
        "from tensorflow.keras.utils import to_categorical\n",
        "from keras.models import Model\n",
        "from keras.layers import Embedding\n",
        "from keras.preprocessing import sequence\n",
        "import pandas as pd\n",
        "import numpy as np"
      ],
      "execution_count": null,
      "outputs": []
    },
    {
      "cell_type": "code",
      "metadata": {
        "id": "YmcBUEjpAQ-f"
      },
      "source": [
        "seq_rdic = ['A','I','L','V','F','W','Y','N','C','Q','M','S','T','D','E','R','H','K','G','P','O','U','X','B','Z']\n",
        "seq_dic = {w: i+1 for i,w in enumerate(seq_rdic)}\n",
        "def encodeSeq(seq, seq_dic):  # change AA to number\n",
        "    if pd.isnull(seq):\n",
        "        return [0]\n",
        "    else:\n",
        "        return [seq_dic[aa] for aa in seq]\n",
        "print (seq_dic)"
      ],
      "execution_count": null,
      "outputs": []
    },
    {
      "cell_type": "code",
      "metadata": {
        "id": "9ytHViZ8bJYq"
      },
      "source": [
        "protein = encodeSeq(\"MPACCSCSDVFQYETNKVTRIQSMNYGTIKWFFHVIIFSYVCFALVDDKKZ\", seq_dic)\n",
        "print (protein)\n",
        "print (len(protein))"
      ],
      "execution_count": null,
      "outputs": []
    },
    {
      "cell_type": "code",
      "metadata": {
        "id": "4tOb3iLtcTWR"
      },
      "source": [
        "protein = sequence.pad_sequences(np.array([protein]) , maxlen=100)\n",
        "print (protein)"
      ],
      "execution_count": null,
      "outputs": []
    },
    {
      "cell_type": "code",
      "metadata": {
        "id": "VSdZH6YRSADd"
      },
      "source": [
        "one_hot = to_categorical(protein)\n",
        "one_hot_df = pd.DataFrame(one_hot[0,:,:])\n",
        "one_hot_df"
      ],
      "execution_count": null,
      "outputs": []
    },
    {
      "cell_type": "markdown",
      "metadata": {
        "id": "WpNZjuc3AJYx"
      },
      "source": [
        "### example - Keras integer encoding / adopted from DeepConv-DTI"
      ]
    },
    {
      "cell_type": "code",
      "metadata": {
        "id": "frAspag_7J3N"
      },
      "source": [
        "from keras.models import Model\n",
        "from keras.layers import Input, Embedding\n",
        "from keras.preprocessing import sequence\n",
        "import pandas as pd\n",
        "import numpy as np"
      ],
      "execution_count": null,
      "outputs": []
    },
    {
      "cell_type": "code",
      "metadata": {
        "id": "lrlzVbk-K4TO"
      },
      "source": [
        "seq_rdic = ['A','I','L','V','F','W','Y','N','C','Q','M','S','T','D','E','R','H','K','G','P','O','U','X','B','Z']\n",
        "seq_dic = {w: i+1 for i,w in enumerate(seq_rdic)}\n",
        "def encodeSeq(seq, seq_dic):  # change AA to number\n",
        "    if pd.isnull(seq):\n",
        "        return [0]\n",
        "    else:\n",
        "        return [seq_dic[aa] for aa in seq]\n",
        "\n",
        "protein = encodeSeq(\"MPACCSCSDVFQYETNKVTRIQSMNYGTIKWFFHVIIFSYVCFALVDDKKZ\", seq_dic)\n",
        "protein = sequence.pad_sequences(np.array([protein]) , maxlen=100)"
      ],
      "execution_count": null,
      "outputs": []
    },
    {
      "cell_type": "code",
      "metadata": {
        "id": "oeURAtfFK6U2"
      },
      "source": [
        "protein_df = pd.DataFrame(protein)\n",
        "protein_df"
      ],
      "execution_count": null,
      "outputs": []
    },
    {
      "cell_type": "code",
      "metadata": {
        "id": "ytmZ12Q07m8R"
      },
      "source": [
        "input_p = Input(shape=(100,))\n",
        "model_p = Embedding(26,20)(input_p) # Keras embedding layer\n",
        "\n",
        "model_embedding = Model(inputs=[input_p], outputs=model_p)\n",
        "protein_embedding = model_embedding.predict([protein])"
      ],
      "execution_count": null,
      "outputs": []
    },
    {
      "cell_type": "code",
      "metadata": {
        "id": "z1QLLv0bA8Km"
      },
      "source": [
        "embedding_df = pd.DataFrame(protein_embedding[0,:,:])"
      ],
      "execution_count": null,
      "outputs": []
    },
    {
      "cell_type": "code",
      "metadata": {
        "id": "DHN84sE-B_2m"
      },
      "source": [
        "embedding_df"
      ],
      "execution_count": null,
      "outputs": []
    }
  ]
}