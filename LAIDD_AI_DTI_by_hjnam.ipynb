{
  "nbformat": 4,
  "nbformat_minor": 0,
  "metadata": {
    "colab": {
      "name": "LAIDD_AI_DTI_by_hjnam.ipynb",
      "provenance": [],
      "collapsed_sections": [],
      "toc_visible": true,
      "authorship_tag": "ABX9TyOUeJbZI/f1coY19EW4MAhs",
      "include_colab_link": true
    },
    "kernelspec": {
      "name": "python3",
      "display_name": "Python 3"
    },
    "language_info": {
      "name": "python"
    }
  },
  "cells": [
    {
      "cell_type": "markdown",
      "metadata": {
        "id": "view-in-github",
        "colab_type": "text"
      },
      "source": [
        "<a href=\"https://colab.research.google.com/github/hojungnam/LAIDD_DTI/blob/main/LAIDD_AI_DTI_by_hjnam.ipynb\" target=\"_parent\"><img src=\"https://colab.research.google.com/assets/colab-badge.svg\" alt=\"Open In Colab\"/></a>"
      ]
    },
    {
      "cell_type": "markdown",
      "metadata": {
        "id": "ItLSmWCiaD2h"
      },
      "source": [
        "## RDkit을 이용한 compound descriptor 생성 예제"
      ]
    },
    {
      "cell_type": "code",
      "metadata": {
        "id": "wHtuvxQ9aGor"
      },
      "source": [
        "!pip install rdkit-pypi # install rdkit"
      ],
      "execution_count": null,
      "outputs": []
    },
    {
      "cell_type": "code",
      "metadata": {
        "id": "CckzvV-ka5-z"
      },
      "source": [
        "from __future__ import absolute_import\n",
        "import rdkit\n",
        "from rdkit import Chem\n",
        "from rdkit.Chem import rdMolDescriptors # Module containing functions to compute molecular descriptors\n",
        "from rdkit.Chem import Descriptors\n",
        "import rdkit.rdBase\n",
        "from rdkit.Chem.MACCSkeys import GenMACCSKeys\n",
        "from rdkit.Chem import AllChem\n",
        "from rdkit.Chem import Draw"
      ],
      "execution_count": null,
      "outputs": []
    },
    {
      "cell_type": "code",
      "metadata": {
        "id": "aY9fVBzZa_SN"
      },
      "source": [
        "# Reading single molecules\n",
        "m = Chem.MolFromSmiles(\"CN1C=NC2=C1C(=O)N(C(=O)N2C)C\") # caffine\n",
        "\n",
        "from rdkit.Chem.Draw import IPythonConsole #Needed to show molecules\n",
        "from rdkit.Chem.Draw.MolDrawing import MolDrawing, DrawingOptions #Only needed if modifying defaults\n",
        "%matplotlib inline\n",
        "m"
      ],
      "execution_count": null,
      "outputs": []
    },
    {
      "cell_type": "code",
      "metadata": {
        "id": "rKTx5g6NbFSC"
      },
      "source": [
        "rdMolDescriptors.CalcExactMolWt(m) # returns the molecule’s exact molecular weight"
      ],
      "execution_count": null,
      "outputs": []
    },
    {
      "cell_type": "code",
      "metadata": {
        "id": "rTfm3RUa6plN"
      },
      "source": [
        "Descriptors.MolLogP(m) "
      ],
      "execution_count": null,
      "outputs": []
    },
    {
      "cell_type": "code",
      "metadata": {
        "id": "oAnD9Spq6shK"
      },
      "source": [
        "rdMolDescriptors.CalcMolFormula(m) # returns the molecule’s formula"
      ],
      "execution_count": null,
      "outputs": []
    },
    {
      "cell_type": "code",
      "metadata": {
        "id": "-Vnmux1D7B5X"
      },
      "source": [
        "rdMolDescriptors.CalcNumHBA(m) # returns the number of H-bond acceptors for a molecule"
      ],
      "execution_count": null,
      "outputs": []
    },
    {
      "cell_type": "code",
      "metadata": {
        "id": "Mm0R86JL7CqF"
      },
      "source": [
        "rdMolDescriptors.CalcNumHBD(m) # returns the number of H-bond donors for a molecule"
      ],
      "execution_count": null,
      "outputs": []
    },
    {
      "cell_type": "code",
      "metadata": {
        "id": "p3x8ujzT7EjE"
      },
      "source": [
        "# molecule into MACCSKey\n",
        "maccs_fp = GenMACCSKeys(m)\n",
        "maccs_fp.ToBitString()"
      ],
      "execution_count": null,
      "outputs": []
    },
    {
      "cell_type": "code",
      "metadata": {
        "id": "IX2aHmKv7Hsx"
      },
      "source": [
        "# molecule into MorganFingerprint\n",
        "morgan_fp = AllChem.GetMorganFingerprintAsBitVect(m,2, nBits=1024)\n",
        "morgan_fp.ToBitString()"
      ],
      "execution_count": null,
      "outputs": []
    },
    {
      "cell_type": "markdown",
      "metadata": {
        "id": "dWTbixJqllZ5"
      },
      "source": [
        "## PyBioMed을 이용한 protein descriptor"
      ]
    },
    {
      "cell_type": "code",
      "metadata": {
        "id": "8frUhPu7lly3"
      },
      "source": [
        "!pip install rdkit-pypi # install rdkit"
      ],
      "execution_count": null,
      "outputs": []
    },
    {
      "cell_type": "code",
      "metadata": {
        "id": "a41kxqzXll1p"
      },
      "source": [
        "!pip install pybel_tools # install pybel"
      ],
      "execution_count": null,
      "outputs": []
    },
    {
      "cell_type": "code",
      "metadata": {
        "id": "9KIJcNpMll4b"
      },
      "source": [
        "!git clone https://github.com/gadsbyfly/PyBioMed.git\n",
        "%cd PyBioMed\n",
        "!python setup.py install"
      ],
      "execution_count": null,
      "outputs": []
    },
    {
      "cell_type": "markdown",
      "metadata": {
        "id": "4b1D2WyCmeTY"
      },
      "source": [
        "### Using PyBioMed - AA composition"
      ]
    },
    {
      "cell_type": "code",
      "metadata": {
        "id": "6X5A3zq5qXQ7"
      },
      "source": [
        "import PyBioMed\n",
        "from PyBioMed.PyProtein import AAComposition"
      ],
      "execution_count": null,
      "outputs": []
    },
    {
      "cell_type": "code",
      "metadata": {
        "id": "p4s1-pcCl8RL"
      },
      "source": [
        "protein=\"AAAAAAAAVGE\"\n",
        "AAC=AAComposition.CalculateAAComposition(protein)\n",
        "print (AAC)"
      ],
      "execution_count": null,
      "outputs": []
    },
    {
      "cell_type": "code",
      "metadata": {
        "id": "XwQpzN5Xl8UL"
      },
      "source": [
        "AAC_D = AAC.values()"
      ],
      "execution_count": null,
      "outputs": []
    },
    {
      "cell_type": "code",
      "metadata": {
        "id": "-nzNtOWYl8WJ"
      },
      "source": [
        "print (AAC_D)"
      ],
      "execution_count": null,
      "outputs": []
    },
    {
      "cell_type": "code",
      "metadata": {
        "id": "NXbr2Vhul8bx"
      },
      "source": [
        "len(AAC)"
      ],
      "execution_count": null,
      "outputs": []
    },
    {
      "cell_type": "code",
      "metadata": {
        "id": "0cbll1gRmDwe"
      },
      "source": [
        "AAD=AAComposition.CalculateAADipeptideComposition(protein)\n",
        "print (AAD)"
      ],
      "execution_count": null,
      "outputs": []
    },
    {
      "cell_type": "code",
      "metadata": {
        "id": "Tkitcy89mDzU"
      },
      "source": [
        "len(AAD)"
      ],
      "execution_count": null,
      "outputs": []
    },
    {
      "cell_type": "markdown",
      "metadata": {
        "id": "60txaLM0mMqD"
      },
      "source": [
        "### Using PyBioMed - CTD descriptor"
      ]
    },
    {
      "cell_type": "code",
      "metadata": {
        "id": "Ec8jogaimD2L"
      },
      "source": [
        "from PyBioMed.PyProtein import CTD\n",
        "\n",
        "protein=\"AAAAAAAAVGE\"\n",
        "protein_descriptor = CTD.CalculateCTD(protein)\n",
        "print (protein_descriptor)"
      ],
      "execution_count": null,
      "outputs": []
    },
    {
      "cell_type": "code",
      "metadata": {
        "id": "t1hwWm8WmD4E"
      },
      "source": [
        "print (len(protein_descriptor))"
      ],
      "execution_count": null,
      "outputs": []
    },
    {
      "cell_type": "code",
      "metadata": {
        "id": "guwMv99Pll96"
      },
      "source": [
        "protein_descriptor"
      ],
      "execution_count": null,
      "outputs": []
    },
    {
      "cell_type": "code",
      "metadata": {
        "id": "tzi1aHjhTnyu"
      },
      "source": [
        "protein_descriptor_v = protein_descriptor.values()\n",
        "print (protein_descriptor_v)"
      ],
      "execution_count": null,
      "outputs": []
    },
    {
      "cell_type": "markdown",
      "metadata": {
        "id": "qTqzmUSd8EZF"
      },
      "source": [
        "## Protein embedding 예제\n"
      ]
    },
    {
      "cell_type": "markdown",
      "metadata": {
        "id": "qfnawWX8AP92"
      },
      "source": [
        "### example - 1 hot embedding"
      ]
    },
    {
      "cell_type": "code",
      "metadata": {
        "id": "Ju3iBhQgR3Lg"
      },
      "source": [
        "from tensorflow.keras.utils import to_categorical\n",
        "from keras.models import Model\n",
        "from keras.layers import Embedding\n",
        "from keras.preprocessing import sequence\n",
        "import pandas as pd\n",
        "import numpy as np"
      ],
      "execution_count": 1,
      "outputs": []
    },
    {
      "cell_type": "code",
      "metadata": {
        "id": "YmcBUEjpAQ-f",
        "colab": {
          "base_uri": "https://localhost:8080/"
        },
        "outputId": "9e0f5375-9b3b-45f2-d5bd-36153f4c7b76"
      },
      "source": [
        "seq_rdic = ['A','I','L','V','F','W','Y','N','C','Q','M','S','T','D','E','R','H','K','G','P','O','U','X','B','Z']\n",
        "seq_dic = {w: i+1 for i,w in enumerate(seq_rdic)}\n",
        "def encodeSeq(seq, seq_dic):  # change AA to number\n",
        "    if pd.isnull(seq):\n",
        "        return [0]\n",
        "    else:\n",
        "        return [seq_dic[aa] for aa in seq]\n",
        "print (seq_dic)"
      ],
      "execution_count": 2,
      "outputs": [
        {
          "output_type": "stream",
          "text": [
            "{'A': 1, 'I': 2, 'L': 3, 'V': 4, 'F': 5, 'W': 6, 'Y': 7, 'N': 8, 'C': 9, 'Q': 10, 'M': 11, 'S': 12, 'T': 13, 'D': 14, 'E': 15, 'R': 16, 'H': 17, 'K': 18, 'G': 19, 'P': 20, 'O': 21, 'U': 22, 'X': 23, 'B': 24, 'Z': 25}\n"
          ],
          "name": "stdout"
        }
      ]
    },
    {
      "cell_type": "code",
      "metadata": {
        "colab": {
          "base_uri": "https://localhost:8080/"
        },
        "id": "9ytHViZ8bJYq",
        "outputId": "e787c967-847e-485d-c817-dee51b6e8c14"
      },
      "source": [
        "protein = encodeSeq(\"MPACCSCSDVFQYETNKVTRIQSMNYGTIKWFFHVIIFSYVCFALVDDKKZ\", seq_dic)\n",
        "print (protein)\n",
        "print (len(protein))"
      ],
      "execution_count": 3,
      "outputs": [
        {
          "output_type": "stream",
          "text": [
            "[11, 20, 1, 9, 9, 12, 9, 12, 14, 4, 5, 10, 7, 15, 13, 8, 18, 4, 13, 16, 2, 10, 12, 11, 8, 7, 19, 13, 2, 18, 6, 5, 5, 17, 4, 2, 2, 5, 12, 7, 4, 9, 5, 1, 3, 4, 14, 14, 18, 18, 25]\n",
            "51\n"
          ],
          "name": "stdout"
        }
      ]
    },
    {
      "cell_type": "code",
      "metadata": {
        "colab": {
          "base_uri": "https://localhost:8080/"
        },
        "id": "4tOb3iLtcTWR",
        "outputId": "c2b46653-5ceb-4b8f-8f45-2ee421d72906"
      },
      "source": [
        "protein = sequence.pad_sequences(np.array([protein]) , maxlen=100)\n",
        "print (protein)"
      ],
      "execution_count": 4,
      "outputs": [
        {
          "output_type": "stream",
          "text": [
            "[[ 0  0  0  0  0  0  0  0  0  0  0  0  0  0  0  0  0  0  0  0  0  0  0  0\n",
            "   0  0  0  0  0  0  0  0  0  0  0  0  0  0  0  0  0  0  0  0  0  0  0  0\n",
            "   0 11 20  1  9  9 12  9 12 14  4  5 10  7 15 13  8 18  4 13 16  2 10 12\n",
            "  11  8  7 19 13  2 18  6  5  5 17  4  2  2  5 12  7  4  9  5  1  3  4 14\n",
            "  14 18 18 25]]\n"
          ],
          "name": "stdout"
        }
      ]
    },
    {
      "cell_type": "code",
      "metadata": {
        "id": "VSdZH6YRSADd",
        "colab": {
          "base_uri": "https://localhost:8080/",
          "height": 418
        },
        "outputId": "6906c96a-9eea-46a5-fcce-5b36592d1703"
      },
      "source": [
        "one_hot = to_categorical(protein)\n",
        "one_hot_df = pd.DataFrame(one_hot[0,:,:])\n",
        "one_hot_df"
      ],
      "execution_count": 5,
      "outputs": [
        {
          "output_type": "execute_result",
          "data": {
            "text/html": [
              "<div>\n",
              "<style scoped>\n",
              "    .dataframe tbody tr th:only-of-type {\n",
              "        vertical-align: middle;\n",
              "    }\n",
              "\n",
              "    .dataframe tbody tr th {\n",
              "        vertical-align: top;\n",
              "    }\n",
              "\n",
              "    .dataframe thead th {\n",
              "        text-align: right;\n",
              "    }\n",
              "</style>\n",
              "<table border=\"1\" class=\"dataframe\">\n",
              "  <thead>\n",
              "    <tr style=\"text-align: right;\">\n",
              "      <th></th>\n",
              "      <th>0</th>\n",
              "      <th>1</th>\n",
              "      <th>2</th>\n",
              "      <th>3</th>\n",
              "      <th>4</th>\n",
              "      <th>5</th>\n",
              "      <th>6</th>\n",
              "      <th>7</th>\n",
              "      <th>8</th>\n",
              "      <th>9</th>\n",
              "      <th>10</th>\n",
              "      <th>11</th>\n",
              "      <th>12</th>\n",
              "      <th>13</th>\n",
              "      <th>14</th>\n",
              "      <th>15</th>\n",
              "      <th>16</th>\n",
              "      <th>17</th>\n",
              "      <th>18</th>\n",
              "      <th>19</th>\n",
              "      <th>20</th>\n",
              "      <th>21</th>\n",
              "      <th>22</th>\n",
              "      <th>23</th>\n",
              "      <th>24</th>\n",
              "      <th>25</th>\n",
              "    </tr>\n",
              "  </thead>\n",
              "  <tbody>\n",
              "    <tr>\n",
              "      <th>0</th>\n",
              "      <td>1.0</td>\n",
              "      <td>0.0</td>\n",
              "      <td>0.0</td>\n",
              "      <td>0.0</td>\n",
              "      <td>0.0</td>\n",
              "      <td>0.0</td>\n",
              "      <td>0.0</td>\n",
              "      <td>0.0</td>\n",
              "      <td>0.0</td>\n",
              "      <td>0.0</td>\n",
              "      <td>0.0</td>\n",
              "      <td>0.0</td>\n",
              "      <td>0.0</td>\n",
              "      <td>0.0</td>\n",
              "      <td>0.0</td>\n",
              "      <td>0.0</td>\n",
              "      <td>0.0</td>\n",
              "      <td>0.0</td>\n",
              "      <td>0.0</td>\n",
              "      <td>0.0</td>\n",
              "      <td>0.0</td>\n",
              "      <td>0.0</td>\n",
              "      <td>0.0</td>\n",
              "      <td>0.0</td>\n",
              "      <td>0.0</td>\n",
              "      <td>0.0</td>\n",
              "    </tr>\n",
              "    <tr>\n",
              "      <th>1</th>\n",
              "      <td>1.0</td>\n",
              "      <td>0.0</td>\n",
              "      <td>0.0</td>\n",
              "      <td>0.0</td>\n",
              "      <td>0.0</td>\n",
              "      <td>0.0</td>\n",
              "      <td>0.0</td>\n",
              "      <td>0.0</td>\n",
              "      <td>0.0</td>\n",
              "      <td>0.0</td>\n",
              "      <td>0.0</td>\n",
              "      <td>0.0</td>\n",
              "      <td>0.0</td>\n",
              "      <td>0.0</td>\n",
              "      <td>0.0</td>\n",
              "      <td>0.0</td>\n",
              "      <td>0.0</td>\n",
              "      <td>0.0</td>\n",
              "      <td>0.0</td>\n",
              "      <td>0.0</td>\n",
              "      <td>0.0</td>\n",
              "      <td>0.0</td>\n",
              "      <td>0.0</td>\n",
              "      <td>0.0</td>\n",
              "      <td>0.0</td>\n",
              "      <td>0.0</td>\n",
              "    </tr>\n",
              "    <tr>\n",
              "      <th>2</th>\n",
              "      <td>1.0</td>\n",
              "      <td>0.0</td>\n",
              "      <td>0.0</td>\n",
              "      <td>0.0</td>\n",
              "      <td>0.0</td>\n",
              "      <td>0.0</td>\n",
              "      <td>0.0</td>\n",
              "      <td>0.0</td>\n",
              "      <td>0.0</td>\n",
              "      <td>0.0</td>\n",
              "      <td>0.0</td>\n",
              "      <td>0.0</td>\n",
              "      <td>0.0</td>\n",
              "      <td>0.0</td>\n",
              "      <td>0.0</td>\n",
              "      <td>0.0</td>\n",
              "      <td>0.0</td>\n",
              "      <td>0.0</td>\n",
              "      <td>0.0</td>\n",
              "      <td>0.0</td>\n",
              "      <td>0.0</td>\n",
              "      <td>0.0</td>\n",
              "      <td>0.0</td>\n",
              "      <td>0.0</td>\n",
              "      <td>0.0</td>\n",
              "      <td>0.0</td>\n",
              "    </tr>\n",
              "    <tr>\n",
              "      <th>3</th>\n",
              "      <td>1.0</td>\n",
              "      <td>0.0</td>\n",
              "      <td>0.0</td>\n",
              "      <td>0.0</td>\n",
              "      <td>0.0</td>\n",
              "      <td>0.0</td>\n",
              "      <td>0.0</td>\n",
              "      <td>0.0</td>\n",
              "      <td>0.0</td>\n",
              "      <td>0.0</td>\n",
              "      <td>0.0</td>\n",
              "      <td>0.0</td>\n",
              "      <td>0.0</td>\n",
              "      <td>0.0</td>\n",
              "      <td>0.0</td>\n",
              "      <td>0.0</td>\n",
              "      <td>0.0</td>\n",
              "      <td>0.0</td>\n",
              "      <td>0.0</td>\n",
              "      <td>0.0</td>\n",
              "      <td>0.0</td>\n",
              "      <td>0.0</td>\n",
              "      <td>0.0</td>\n",
              "      <td>0.0</td>\n",
              "      <td>0.0</td>\n",
              "      <td>0.0</td>\n",
              "    </tr>\n",
              "    <tr>\n",
              "      <th>4</th>\n",
              "      <td>1.0</td>\n",
              "      <td>0.0</td>\n",
              "      <td>0.0</td>\n",
              "      <td>0.0</td>\n",
              "      <td>0.0</td>\n",
              "      <td>0.0</td>\n",
              "      <td>0.0</td>\n",
              "      <td>0.0</td>\n",
              "      <td>0.0</td>\n",
              "      <td>0.0</td>\n",
              "      <td>0.0</td>\n",
              "      <td>0.0</td>\n",
              "      <td>0.0</td>\n",
              "      <td>0.0</td>\n",
              "      <td>0.0</td>\n",
              "      <td>0.0</td>\n",
              "      <td>0.0</td>\n",
              "      <td>0.0</td>\n",
              "      <td>0.0</td>\n",
              "      <td>0.0</td>\n",
              "      <td>0.0</td>\n",
              "      <td>0.0</td>\n",
              "      <td>0.0</td>\n",
              "      <td>0.0</td>\n",
              "      <td>0.0</td>\n",
              "      <td>0.0</td>\n",
              "    </tr>\n",
              "    <tr>\n",
              "      <th>...</th>\n",
              "      <td>...</td>\n",
              "      <td>...</td>\n",
              "      <td>...</td>\n",
              "      <td>...</td>\n",
              "      <td>...</td>\n",
              "      <td>...</td>\n",
              "      <td>...</td>\n",
              "      <td>...</td>\n",
              "      <td>...</td>\n",
              "      <td>...</td>\n",
              "      <td>...</td>\n",
              "      <td>...</td>\n",
              "      <td>...</td>\n",
              "      <td>...</td>\n",
              "      <td>...</td>\n",
              "      <td>...</td>\n",
              "      <td>...</td>\n",
              "      <td>...</td>\n",
              "      <td>...</td>\n",
              "      <td>...</td>\n",
              "      <td>...</td>\n",
              "      <td>...</td>\n",
              "      <td>...</td>\n",
              "      <td>...</td>\n",
              "      <td>...</td>\n",
              "      <td>...</td>\n",
              "    </tr>\n",
              "    <tr>\n",
              "      <th>95</th>\n",
              "      <td>0.0</td>\n",
              "      <td>0.0</td>\n",
              "      <td>0.0</td>\n",
              "      <td>0.0</td>\n",
              "      <td>0.0</td>\n",
              "      <td>0.0</td>\n",
              "      <td>0.0</td>\n",
              "      <td>0.0</td>\n",
              "      <td>0.0</td>\n",
              "      <td>0.0</td>\n",
              "      <td>0.0</td>\n",
              "      <td>0.0</td>\n",
              "      <td>0.0</td>\n",
              "      <td>0.0</td>\n",
              "      <td>1.0</td>\n",
              "      <td>0.0</td>\n",
              "      <td>0.0</td>\n",
              "      <td>0.0</td>\n",
              "      <td>0.0</td>\n",
              "      <td>0.0</td>\n",
              "      <td>0.0</td>\n",
              "      <td>0.0</td>\n",
              "      <td>0.0</td>\n",
              "      <td>0.0</td>\n",
              "      <td>0.0</td>\n",
              "      <td>0.0</td>\n",
              "    </tr>\n",
              "    <tr>\n",
              "      <th>96</th>\n",
              "      <td>0.0</td>\n",
              "      <td>0.0</td>\n",
              "      <td>0.0</td>\n",
              "      <td>0.0</td>\n",
              "      <td>0.0</td>\n",
              "      <td>0.0</td>\n",
              "      <td>0.0</td>\n",
              "      <td>0.0</td>\n",
              "      <td>0.0</td>\n",
              "      <td>0.0</td>\n",
              "      <td>0.0</td>\n",
              "      <td>0.0</td>\n",
              "      <td>0.0</td>\n",
              "      <td>0.0</td>\n",
              "      <td>1.0</td>\n",
              "      <td>0.0</td>\n",
              "      <td>0.0</td>\n",
              "      <td>0.0</td>\n",
              "      <td>0.0</td>\n",
              "      <td>0.0</td>\n",
              "      <td>0.0</td>\n",
              "      <td>0.0</td>\n",
              "      <td>0.0</td>\n",
              "      <td>0.0</td>\n",
              "      <td>0.0</td>\n",
              "      <td>0.0</td>\n",
              "    </tr>\n",
              "    <tr>\n",
              "      <th>97</th>\n",
              "      <td>0.0</td>\n",
              "      <td>0.0</td>\n",
              "      <td>0.0</td>\n",
              "      <td>0.0</td>\n",
              "      <td>0.0</td>\n",
              "      <td>0.0</td>\n",
              "      <td>0.0</td>\n",
              "      <td>0.0</td>\n",
              "      <td>0.0</td>\n",
              "      <td>0.0</td>\n",
              "      <td>0.0</td>\n",
              "      <td>0.0</td>\n",
              "      <td>0.0</td>\n",
              "      <td>0.0</td>\n",
              "      <td>0.0</td>\n",
              "      <td>0.0</td>\n",
              "      <td>0.0</td>\n",
              "      <td>0.0</td>\n",
              "      <td>1.0</td>\n",
              "      <td>0.0</td>\n",
              "      <td>0.0</td>\n",
              "      <td>0.0</td>\n",
              "      <td>0.0</td>\n",
              "      <td>0.0</td>\n",
              "      <td>0.0</td>\n",
              "      <td>0.0</td>\n",
              "    </tr>\n",
              "    <tr>\n",
              "      <th>98</th>\n",
              "      <td>0.0</td>\n",
              "      <td>0.0</td>\n",
              "      <td>0.0</td>\n",
              "      <td>0.0</td>\n",
              "      <td>0.0</td>\n",
              "      <td>0.0</td>\n",
              "      <td>0.0</td>\n",
              "      <td>0.0</td>\n",
              "      <td>0.0</td>\n",
              "      <td>0.0</td>\n",
              "      <td>0.0</td>\n",
              "      <td>0.0</td>\n",
              "      <td>0.0</td>\n",
              "      <td>0.0</td>\n",
              "      <td>0.0</td>\n",
              "      <td>0.0</td>\n",
              "      <td>0.0</td>\n",
              "      <td>0.0</td>\n",
              "      <td>1.0</td>\n",
              "      <td>0.0</td>\n",
              "      <td>0.0</td>\n",
              "      <td>0.0</td>\n",
              "      <td>0.0</td>\n",
              "      <td>0.0</td>\n",
              "      <td>0.0</td>\n",
              "      <td>0.0</td>\n",
              "    </tr>\n",
              "    <tr>\n",
              "      <th>99</th>\n",
              "      <td>0.0</td>\n",
              "      <td>0.0</td>\n",
              "      <td>0.0</td>\n",
              "      <td>0.0</td>\n",
              "      <td>0.0</td>\n",
              "      <td>0.0</td>\n",
              "      <td>0.0</td>\n",
              "      <td>0.0</td>\n",
              "      <td>0.0</td>\n",
              "      <td>0.0</td>\n",
              "      <td>0.0</td>\n",
              "      <td>0.0</td>\n",
              "      <td>0.0</td>\n",
              "      <td>0.0</td>\n",
              "      <td>0.0</td>\n",
              "      <td>0.0</td>\n",
              "      <td>0.0</td>\n",
              "      <td>0.0</td>\n",
              "      <td>0.0</td>\n",
              "      <td>0.0</td>\n",
              "      <td>0.0</td>\n",
              "      <td>0.0</td>\n",
              "      <td>0.0</td>\n",
              "      <td>0.0</td>\n",
              "      <td>0.0</td>\n",
              "      <td>1.0</td>\n",
              "    </tr>\n",
              "  </tbody>\n",
              "</table>\n",
              "<p>100 rows × 26 columns</p>\n",
              "</div>"
            ],
            "text/plain": [
              "     0    1    2    3    4    5    6   ...   19   20   21   22   23   24   25\n",
              "0   1.0  0.0  0.0  0.0  0.0  0.0  0.0  ...  0.0  0.0  0.0  0.0  0.0  0.0  0.0\n",
              "1   1.0  0.0  0.0  0.0  0.0  0.0  0.0  ...  0.0  0.0  0.0  0.0  0.0  0.0  0.0\n",
              "2   1.0  0.0  0.0  0.0  0.0  0.0  0.0  ...  0.0  0.0  0.0  0.0  0.0  0.0  0.0\n",
              "3   1.0  0.0  0.0  0.0  0.0  0.0  0.0  ...  0.0  0.0  0.0  0.0  0.0  0.0  0.0\n",
              "4   1.0  0.0  0.0  0.0  0.0  0.0  0.0  ...  0.0  0.0  0.0  0.0  0.0  0.0  0.0\n",
              "..  ...  ...  ...  ...  ...  ...  ...  ...  ...  ...  ...  ...  ...  ...  ...\n",
              "95  0.0  0.0  0.0  0.0  0.0  0.0  0.0  ...  0.0  0.0  0.0  0.0  0.0  0.0  0.0\n",
              "96  0.0  0.0  0.0  0.0  0.0  0.0  0.0  ...  0.0  0.0  0.0  0.0  0.0  0.0  0.0\n",
              "97  0.0  0.0  0.0  0.0  0.0  0.0  0.0  ...  0.0  0.0  0.0  0.0  0.0  0.0  0.0\n",
              "98  0.0  0.0  0.0  0.0  0.0  0.0  0.0  ...  0.0  0.0  0.0  0.0  0.0  0.0  0.0\n",
              "99  0.0  0.0  0.0  0.0  0.0  0.0  0.0  ...  0.0  0.0  0.0  0.0  0.0  0.0  1.0\n",
              "\n",
              "[100 rows x 26 columns]"
            ]
          },
          "metadata": {
            "tags": []
          },
          "execution_count": 5
        }
      ]
    },
    {
      "cell_type": "markdown",
      "metadata": {
        "id": "WpNZjuc3AJYx"
      },
      "source": [
        "### example - Keras integer encoding / adopted from DeepConv-DTI"
      ]
    },
    {
      "cell_type": "code",
      "metadata": {
        "id": "frAspag_7J3N"
      },
      "source": [
        "from keras.models import Model\n",
        "from keras.layers import Input, Embedding\n",
        "from keras.preprocessing import sequence\n",
        "import pandas as pd\n",
        "import numpy as np"
      ],
      "execution_count": 6,
      "outputs": []
    },
    {
      "cell_type": "code",
      "metadata": {
        "id": "lrlzVbk-K4TO"
      },
      "source": [
        "seq_rdic = ['A','I','L','V','F','W','Y','N','C','Q','M','S','T','D','E','R','H','K','G','P','O','U','X','B','Z']\n",
        "seq_dic = {w: i+1 for i,w in enumerate(seq_rdic)}\n",
        "def encodeSeq(seq, seq_dic):  # change AA to number\n",
        "    if pd.isnull(seq):\n",
        "        return [0]\n",
        "    else:\n",
        "        return [seq_dic[aa] for aa in seq]\n",
        "\n",
        "protein = encodeSeq(\"MPACCSCSDVFQYETNKVTRIQSMNYGTIKWFFHVIIFSYVCFALVDDKKZ\", seq_dic)\n",
        "protein = sequence.pad_sequences(np.array([protein]) , maxlen=100)"
      ],
      "execution_count": 7,
      "outputs": []
    },
    {
      "cell_type": "code",
      "metadata": {
        "id": "oeURAtfFK6U2",
        "colab": {
          "base_uri": "https://localhost:8080/",
          "height": 129
        },
        "outputId": "f7f466af-8909-4b1a-d0ce-28291c51704a"
      },
      "source": [
        "protein_df = pd.DataFrame(protein)\n",
        "protein_df"
      ],
      "execution_count": 8,
      "outputs": [
        {
          "output_type": "execute_result",
          "data": {
            "text/html": [
              "<div>\n",
              "<style scoped>\n",
              "    .dataframe tbody tr th:only-of-type {\n",
              "        vertical-align: middle;\n",
              "    }\n",
              "\n",
              "    .dataframe tbody tr th {\n",
              "        vertical-align: top;\n",
              "    }\n",
              "\n",
              "    .dataframe thead th {\n",
              "        text-align: right;\n",
              "    }\n",
              "</style>\n",
              "<table border=\"1\" class=\"dataframe\">\n",
              "  <thead>\n",
              "    <tr style=\"text-align: right;\">\n",
              "      <th></th>\n",
              "      <th>0</th>\n",
              "      <th>1</th>\n",
              "      <th>2</th>\n",
              "      <th>3</th>\n",
              "      <th>4</th>\n",
              "      <th>5</th>\n",
              "      <th>6</th>\n",
              "      <th>7</th>\n",
              "      <th>8</th>\n",
              "      <th>9</th>\n",
              "      <th>10</th>\n",
              "      <th>11</th>\n",
              "      <th>12</th>\n",
              "      <th>13</th>\n",
              "      <th>14</th>\n",
              "      <th>15</th>\n",
              "      <th>16</th>\n",
              "      <th>17</th>\n",
              "      <th>18</th>\n",
              "      <th>19</th>\n",
              "      <th>20</th>\n",
              "      <th>21</th>\n",
              "      <th>22</th>\n",
              "      <th>23</th>\n",
              "      <th>24</th>\n",
              "      <th>25</th>\n",
              "      <th>26</th>\n",
              "      <th>27</th>\n",
              "      <th>28</th>\n",
              "      <th>29</th>\n",
              "      <th>30</th>\n",
              "      <th>31</th>\n",
              "      <th>32</th>\n",
              "      <th>33</th>\n",
              "      <th>34</th>\n",
              "      <th>35</th>\n",
              "      <th>36</th>\n",
              "      <th>37</th>\n",
              "      <th>38</th>\n",
              "      <th>39</th>\n",
              "      <th>...</th>\n",
              "      <th>60</th>\n",
              "      <th>61</th>\n",
              "      <th>62</th>\n",
              "      <th>63</th>\n",
              "      <th>64</th>\n",
              "      <th>65</th>\n",
              "      <th>66</th>\n",
              "      <th>67</th>\n",
              "      <th>68</th>\n",
              "      <th>69</th>\n",
              "      <th>70</th>\n",
              "      <th>71</th>\n",
              "      <th>72</th>\n",
              "      <th>73</th>\n",
              "      <th>74</th>\n",
              "      <th>75</th>\n",
              "      <th>76</th>\n",
              "      <th>77</th>\n",
              "      <th>78</th>\n",
              "      <th>79</th>\n",
              "      <th>80</th>\n",
              "      <th>81</th>\n",
              "      <th>82</th>\n",
              "      <th>83</th>\n",
              "      <th>84</th>\n",
              "      <th>85</th>\n",
              "      <th>86</th>\n",
              "      <th>87</th>\n",
              "      <th>88</th>\n",
              "      <th>89</th>\n",
              "      <th>90</th>\n",
              "      <th>91</th>\n",
              "      <th>92</th>\n",
              "      <th>93</th>\n",
              "      <th>94</th>\n",
              "      <th>95</th>\n",
              "      <th>96</th>\n",
              "      <th>97</th>\n",
              "      <th>98</th>\n",
              "      <th>99</th>\n",
              "    </tr>\n",
              "  </thead>\n",
              "  <tbody>\n",
              "    <tr>\n",
              "      <th>0</th>\n",
              "      <td>0</td>\n",
              "      <td>0</td>\n",
              "      <td>0</td>\n",
              "      <td>0</td>\n",
              "      <td>0</td>\n",
              "      <td>0</td>\n",
              "      <td>0</td>\n",
              "      <td>0</td>\n",
              "      <td>0</td>\n",
              "      <td>0</td>\n",
              "      <td>0</td>\n",
              "      <td>0</td>\n",
              "      <td>0</td>\n",
              "      <td>0</td>\n",
              "      <td>0</td>\n",
              "      <td>0</td>\n",
              "      <td>0</td>\n",
              "      <td>0</td>\n",
              "      <td>0</td>\n",
              "      <td>0</td>\n",
              "      <td>0</td>\n",
              "      <td>0</td>\n",
              "      <td>0</td>\n",
              "      <td>0</td>\n",
              "      <td>0</td>\n",
              "      <td>0</td>\n",
              "      <td>0</td>\n",
              "      <td>0</td>\n",
              "      <td>0</td>\n",
              "      <td>0</td>\n",
              "      <td>0</td>\n",
              "      <td>0</td>\n",
              "      <td>0</td>\n",
              "      <td>0</td>\n",
              "      <td>0</td>\n",
              "      <td>0</td>\n",
              "      <td>0</td>\n",
              "      <td>0</td>\n",
              "      <td>0</td>\n",
              "      <td>0</td>\n",
              "      <td>...</td>\n",
              "      <td>10</td>\n",
              "      <td>7</td>\n",
              "      <td>15</td>\n",
              "      <td>13</td>\n",
              "      <td>8</td>\n",
              "      <td>18</td>\n",
              "      <td>4</td>\n",
              "      <td>13</td>\n",
              "      <td>16</td>\n",
              "      <td>2</td>\n",
              "      <td>10</td>\n",
              "      <td>12</td>\n",
              "      <td>11</td>\n",
              "      <td>8</td>\n",
              "      <td>7</td>\n",
              "      <td>19</td>\n",
              "      <td>13</td>\n",
              "      <td>2</td>\n",
              "      <td>18</td>\n",
              "      <td>6</td>\n",
              "      <td>5</td>\n",
              "      <td>5</td>\n",
              "      <td>17</td>\n",
              "      <td>4</td>\n",
              "      <td>2</td>\n",
              "      <td>2</td>\n",
              "      <td>5</td>\n",
              "      <td>12</td>\n",
              "      <td>7</td>\n",
              "      <td>4</td>\n",
              "      <td>9</td>\n",
              "      <td>5</td>\n",
              "      <td>1</td>\n",
              "      <td>3</td>\n",
              "      <td>4</td>\n",
              "      <td>14</td>\n",
              "      <td>14</td>\n",
              "      <td>18</td>\n",
              "      <td>18</td>\n",
              "      <td>25</td>\n",
              "    </tr>\n",
              "  </tbody>\n",
              "</table>\n",
              "<p>1 rows × 100 columns</p>\n",
              "</div>"
            ],
            "text/plain": [
              "   0   1   2   3   4   5   6   7   8   ...  91  92  93  94  95  96  97  98  99\n",
              "0   0   0   0   0   0   0   0   0   0  ...   5   1   3   4  14  14  18  18  25\n",
              "\n",
              "[1 rows x 100 columns]"
            ]
          },
          "metadata": {
            "tags": []
          },
          "execution_count": 8
        }
      ]
    },
    {
      "cell_type": "code",
      "metadata": {
        "id": "ytmZ12Q07m8R"
      },
      "source": [
        "input_p = Input(shape=(100,))\n",
        "model_p = Embedding(26,20)(input_p) # Keras embedding layer\n",
        "\n",
        "model_embedding = Model(inputs=[input_p], outputs=model_p)\n",
        "protein_embedding = model_embedding.predict([protein])"
      ],
      "execution_count": 9,
      "outputs": []
    },
    {
      "cell_type": "code",
      "metadata": {
        "id": "z1QLLv0bA8Km"
      },
      "source": [
        "embedding_df = pd.DataFrame(protein_embedding[0,:,:])"
      ],
      "execution_count": 10,
      "outputs": []
    },
    {
      "cell_type": "code",
      "metadata": {
        "id": "DHN84sE-B_2m",
        "colab": {
          "base_uri": "https://localhost:8080/",
          "height": 438
        },
        "outputId": "2694fc45-b003-4e33-ce92-2c2c0e7fd6d4"
      },
      "source": [
        "embedding_df"
      ],
      "execution_count": 11,
      "outputs": [
        {
          "output_type": "execute_result",
          "data": {
            "text/html": [
              "<div>\n",
              "<style scoped>\n",
              "    .dataframe tbody tr th:only-of-type {\n",
              "        vertical-align: middle;\n",
              "    }\n",
              "\n",
              "    .dataframe tbody tr th {\n",
              "        vertical-align: top;\n",
              "    }\n",
              "\n",
              "    .dataframe thead th {\n",
              "        text-align: right;\n",
              "    }\n",
              "</style>\n",
              "<table border=\"1\" class=\"dataframe\">\n",
              "  <thead>\n",
              "    <tr style=\"text-align: right;\">\n",
              "      <th></th>\n",
              "      <th>0</th>\n",
              "      <th>1</th>\n",
              "      <th>2</th>\n",
              "      <th>3</th>\n",
              "      <th>4</th>\n",
              "      <th>5</th>\n",
              "      <th>6</th>\n",
              "      <th>7</th>\n",
              "      <th>8</th>\n",
              "      <th>9</th>\n",
              "      <th>10</th>\n",
              "      <th>11</th>\n",
              "      <th>12</th>\n",
              "      <th>13</th>\n",
              "      <th>14</th>\n",
              "      <th>15</th>\n",
              "      <th>16</th>\n",
              "      <th>17</th>\n",
              "      <th>18</th>\n",
              "      <th>19</th>\n",
              "    </tr>\n",
              "  </thead>\n",
              "  <tbody>\n",
              "    <tr>\n",
              "      <th>0</th>\n",
              "      <td>-0.034496</td>\n",
              "      <td>-0.021885</td>\n",
              "      <td>0.008522</td>\n",
              "      <td>-0.023791</td>\n",
              "      <td>-0.030547</td>\n",
              "      <td>0.041169</td>\n",
              "      <td>-0.014744</td>\n",
              "      <td>0.042474</td>\n",
              "      <td>-0.014674</td>\n",
              "      <td>-0.009554</td>\n",
              "      <td>-0.015578</td>\n",
              "      <td>-0.014704</td>\n",
              "      <td>-0.036156</td>\n",
              "      <td>0.048641</td>\n",
              "      <td>-0.009215</td>\n",
              "      <td>0.038844</td>\n",
              "      <td>-0.036094</td>\n",
              "      <td>0.024915</td>\n",
              "      <td>0.045346</td>\n",
              "      <td>-0.030843</td>\n",
              "    </tr>\n",
              "    <tr>\n",
              "      <th>1</th>\n",
              "      <td>-0.034496</td>\n",
              "      <td>-0.021885</td>\n",
              "      <td>0.008522</td>\n",
              "      <td>-0.023791</td>\n",
              "      <td>-0.030547</td>\n",
              "      <td>0.041169</td>\n",
              "      <td>-0.014744</td>\n",
              "      <td>0.042474</td>\n",
              "      <td>-0.014674</td>\n",
              "      <td>-0.009554</td>\n",
              "      <td>-0.015578</td>\n",
              "      <td>-0.014704</td>\n",
              "      <td>-0.036156</td>\n",
              "      <td>0.048641</td>\n",
              "      <td>-0.009215</td>\n",
              "      <td>0.038844</td>\n",
              "      <td>-0.036094</td>\n",
              "      <td>0.024915</td>\n",
              "      <td>0.045346</td>\n",
              "      <td>-0.030843</td>\n",
              "    </tr>\n",
              "    <tr>\n",
              "      <th>2</th>\n",
              "      <td>-0.034496</td>\n",
              "      <td>-0.021885</td>\n",
              "      <td>0.008522</td>\n",
              "      <td>-0.023791</td>\n",
              "      <td>-0.030547</td>\n",
              "      <td>0.041169</td>\n",
              "      <td>-0.014744</td>\n",
              "      <td>0.042474</td>\n",
              "      <td>-0.014674</td>\n",
              "      <td>-0.009554</td>\n",
              "      <td>-0.015578</td>\n",
              "      <td>-0.014704</td>\n",
              "      <td>-0.036156</td>\n",
              "      <td>0.048641</td>\n",
              "      <td>-0.009215</td>\n",
              "      <td>0.038844</td>\n",
              "      <td>-0.036094</td>\n",
              "      <td>0.024915</td>\n",
              "      <td>0.045346</td>\n",
              "      <td>-0.030843</td>\n",
              "    </tr>\n",
              "    <tr>\n",
              "      <th>3</th>\n",
              "      <td>-0.034496</td>\n",
              "      <td>-0.021885</td>\n",
              "      <td>0.008522</td>\n",
              "      <td>-0.023791</td>\n",
              "      <td>-0.030547</td>\n",
              "      <td>0.041169</td>\n",
              "      <td>-0.014744</td>\n",
              "      <td>0.042474</td>\n",
              "      <td>-0.014674</td>\n",
              "      <td>-0.009554</td>\n",
              "      <td>-0.015578</td>\n",
              "      <td>-0.014704</td>\n",
              "      <td>-0.036156</td>\n",
              "      <td>0.048641</td>\n",
              "      <td>-0.009215</td>\n",
              "      <td>0.038844</td>\n",
              "      <td>-0.036094</td>\n",
              "      <td>0.024915</td>\n",
              "      <td>0.045346</td>\n",
              "      <td>-0.030843</td>\n",
              "    </tr>\n",
              "    <tr>\n",
              "      <th>4</th>\n",
              "      <td>-0.034496</td>\n",
              "      <td>-0.021885</td>\n",
              "      <td>0.008522</td>\n",
              "      <td>-0.023791</td>\n",
              "      <td>-0.030547</td>\n",
              "      <td>0.041169</td>\n",
              "      <td>-0.014744</td>\n",
              "      <td>0.042474</td>\n",
              "      <td>-0.014674</td>\n",
              "      <td>-0.009554</td>\n",
              "      <td>-0.015578</td>\n",
              "      <td>-0.014704</td>\n",
              "      <td>-0.036156</td>\n",
              "      <td>0.048641</td>\n",
              "      <td>-0.009215</td>\n",
              "      <td>0.038844</td>\n",
              "      <td>-0.036094</td>\n",
              "      <td>0.024915</td>\n",
              "      <td>0.045346</td>\n",
              "      <td>-0.030843</td>\n",
              "    </tr>\n",
              "    <tr>\n",
              "      <th>...</th>\n",
              "      <td>...</td>\n",
              "      <td>...</td>\n",
              "      <td>...</td>\n",
              "      <td>...</td>\n",
              "      <td>...</td>\n",
              "      <td>...</td>\n",
              "      <td>...</td>\n",
              "      <td>...</td>\n",
              "      <td>...</td>\n",
              "      <td>...</td>\n",
              "      <td>...</td>\n",
              "      <td>...</td>\n",
              "      <td>...</td>\n",
              "      <td>...</td>\n",
              "      <td>...</td>\n",
              "      <td>...</td>\n",
              "      <td>...</td>\n",
              "      <td>...</td>\n",
              "      <td>...</td>\n",
              "      <td>...</td>\n",
              "    </tr>\n",
              "    <tr>\n",
              "      <th>95</th>\n",
              "      <td>0.044069</td>\n",
              "      <td>-0.042337</td>\n",
              "      <td>0.042486</td>\n",
              "      <td>0.031406</td>\n",
              "      <td>-0.010583</td>\n",
              "      <td>-0.038985</td>\n",
              "      <td>-0.011479</td>\n",
              "      <td>-0.045384</td>\n",
              "      <td>0.021845</td>\n",
              "      <td>-0.027157</td>\n",
              "      <td>0.034716</td>\n",
              "      <td>-0.044587</td>\n",
              "      <td>-0.042444</td>\n",
              "      <td>-0.024022</td>\n",
              "      <td>0.021321</td>\n",
              "      <td>0.046482</td>\n",
              "      <td>-0.040060</td>\n",
              "      <td>-0.008731</td>\n",
              "      <td>0.019504</td>\n",
              "      <td>0.042504</td>\n",
              "    </tr>\n",
              "    <tr>\n",
              "      <th>96</th>\n",
              "      <td>0.044069</td>\n",
              "      <td>-0.042337</td>\n",
              "      <td>0.042486</td>\n",
              "      <td>0.031406</td>\n",
              "      <td>-0.010583</td>\n",
              "      <td>-0.038985</td>\n",
              "      <td>-0.011479</td>\n",
              "      <td>-0.045384</td>\n",
              "      <td>0.021845</td>\n",
              "      <td>-0.027157</td>\n",
              "      <td>0.034716</td>\n",
              "      <td>-0.044587</td>\n",
              "      <td>-0.042444</td>\n",
              "      <td>-0.024022</td>\n",
              "      <td>0.021321</td>\n",
              "      <td>0.046482</td>\n",
              "      <td>-0.040060</td>\n",
              "      <td>-0.008731</td>\n",
              "      <td>0.019504</td>\n",
              "      <td>0.042504</td>\n",
              "    </tr>\n",
              "    <tr>\n",
              "      <th>97</th>\n",
              "      <td>-0.031093</td>\n",
              "      <td>-0.002615</td>\n",
              "      <td>0.045176</td>\n",
              "      <td>0.002753</td>\n",
              "      <td>0.018813</td>\n",
              "      <td>0.047322</td>\n",
              "      <td>-0.039241</td>\n",
              "      <td>0.015643</td>\n",
              "      <td>0.012318</td>\n",
              "      <td>-0.018939</td>\n",
              "      <td>0.049070</td>\n",
              "      <td>-0.049901</td>\n",
              "      <td>-0.003296</td>\n",
              "      <td>0.006624</td>\n",
              "      <td>0.008762</td>\n",
              "      <td>-0.008751</td>\n",
              "      <td>-0.002175</td>\n",
              "      <td>-0.016037</td>\n",
              "      <td>-0.028953</td>\n",
              "      <td>-0.028866</td>\n",
              "    </tr>\n",
              "    <tr>\n",
              "      <th>98</th>\n",
              "      <td>-0.031093</td>\n",
              "      <td>-0.002615</td>\n",
              "      <td>0.045176</td>\n",
              "      <td>0.002753</td>\n",
              "      <td>0.018813</td>\n",
              "      <td>0.047322</td>\n",
              "      <td>-0.039241</td>\n",
              "      <td>0.015643</td>\n",
              "      <td>0.012318</td>\n",
              "      <td>-0.018939</td>\n",
              "      <td>0.049070</td>\n",
              "      <td>-0.049901</td>\n",
              "      <td>-0.003296</td>\n",
              "      <td>0.006624</td>\n",
              "      <td>0.008762</td>\n",
              "      <td>-0.008751</td>\n",
              "      <td>-0.002175</td>\n",
              "      <td>-0.016037</td>\n",
              "      <td>-0.028953</td>\n",
              "      <td>-0.028866</td>\n",
              "    </tr>\n",
              "    <tr>\n",
              "      <th>99</th>\n",
              "      <td>-0.048980</td>\n",
              "      <td>0.045051</td>\n",
              "      <td>0.023671</td>\n",
              "      <td>-0.022894</td>\n",
              "      <td>-0.009610</td>\n",
              "      <td>0.047928</td>\n",
              "      <td>-0.018903</td>\n",
              "      <td>-0.042170</td>\n",
              "      <td>0.038896</td>\n",
              "      <td>0.003301</td>\n",
              "      <td>0.046863</td>\n",
              "      <td>-0.003813</td>\n",
              "      <td>-0.010801</td>\n",
              "      <td>-0.019843</td>\n",
              "      <td>0.047447</td>\n",
              "      <td>0.029663</td>\n",
              "      <td>-0.001739</td>\n",
              "      <td>-0.015074</td>\n",
              "      <td>-0.000094</td>\n",
              "      <td>0.018609</td>\n",
              "    </tr>\n",
              "  </tbody>\n",
              "</table>\n",
              "<p>100 rows × 20 columns</p>\n",
              "</div>"
            ],
            "text/plain": [
              "          0         1         2   ...        17        18        19\n",
              "0  -0.034496 -0.021885  0.008522  ...  0.024915  0.045346 -0.030843\n",
              "1  -0.034496 -0.021885  0.008522  ...  0.024915  0.045346 -0.030843\n",
              "2  -0.034496 -0.021885  0.008522  ...  0.024915  0.045346 -0.030843\n",
              "3  -0.034496 -0.021885  0.008522  ...  0.024915  0.045346 -0.030843\n",
              "4  -0.034496 -0.021885  0.008522  ...  0.024915  0.045346 -0.030843\n",
              "..       ...       ...       ...  ...       ...       ...       ...\n",
              "95  0.044069 -0.042337  0.042486  ... -0.008731  0.019504  0.042504\n",
              "96  0.044069 -0.042337  0.042486  ... -0.008731  0.019504  0.042504\n",
              "97 -0.031093 -0.002615  0.045176  ... -0.016037 -0.028953 -0.028866\n",
              "98 -0.031093 -0.002615  0.045176  ... -0.016037 -0.028953 -0.028866\n",
              "99 -0.048980  0.045051  0.023671  ... -0.015074 -0.000094  0.018609\n",
              "\n",
              "[100 rows x 20 columns]"
            ]
          },
          "metadata": {
            "tags": []
          },
          "execution_count": 11
        }
      ]
    }
  ]
}