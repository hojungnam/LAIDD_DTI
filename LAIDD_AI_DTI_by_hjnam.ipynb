{
  "nbformat": 4,
  "nbformat_minor": 0,
  "metadata": {
    "colab": {
      "name": "LAIDD_AI_DTI_by_hjnam.ipynb",
      "provenance": [],
      "collapsed_sections": [],
      "authorship_tag": "ABX9TyMeoAypCn9ob3fksKA88cES",
      "include_colab_link": true
    },
    "kernelspec": {
      "name": "python3",
      "display_name": "Python 3"
    },
    "language_info": {
      "name": "python"
    }
  },
  "cells": [
    {
      "cell_type": "markdown",
      "metadata": {
        "id": "view-in-github",
        "colab_type": "text"
      },
      "source": [
        "<a href=\"https://colab.research.google.com/github/hojungnam/LAIDD_DTI/blob/main/LAIDD_AI_DTI_by_hjnam.ipynb\" target=\"_parent\"><img src=\"https://colab.research.google.com/assets/colab-badge.svg\" alt=\"Open In Colab\"/></a>"
      ]
    },
    {
      "cell_type": "markdown",
      "metadata": {
        "id": "ItLSmWCiaD2h"
      },
      "source": [
        "## RDkit을 이용한 compound descriptor 생성 예제"
      ]
    },
    {
      "cell_type": "code",
      "metadata": {
        "id": "wHtuvxQ9aGor"
      },
      "source": [
        "!pip install rdkit-pypi # install rdkit"
      ],
      "execution_count": null,
      "outputs": []
    },
    {
      "cell_type": "code",
      "metadata": {
        "id": "CckzvV-ka5-z"
      },
      "source": [
        "from __future__ import absolute_import\n",
        "import rdkit\n",
        "from rdkit import Chem\n",
        "from rdkit.Chem import rdMolDescriptors # Module containing functions to compute molecular descriptors\n",
        "from rdkit.Chem import Descriptors\n",
        "import rdkit.rdBase\n",
        "from rdkit.Chem.MACCSkeys import GenMACCSKeys\n",
        "from rdkit.Chem import AllChem\n",
        "from rdkit.Chem import Draw"
      ],
      "execution_count": null,
      "outputs": []
    },
    {
      "cell_type": "code",
      "metadata": {
        "id": "aY9fVBzZa_SN"
      },
      "source": [
        "# Reading single molecules\n",
        "m = Chem.MolFromSmiles(\"CN1C=NC2=C1C(=O)N(C(=O)N2C)C\") # caffine\n",
        "\n",
        "from rdkit.Chem.Draw import IPythonConsole #Needed to show molecules\n",
        "from rdkit.Chem.Draw.MolDrawing import MolDrawing, DrawingOptions #Only needed if modifying defaults\n",
        "%matplotlib inline\n",
        "m"
      ],
      "execution_count": null,
      "outputs": []
    },
    {
      "cell_type": "code",
      "metadata": {
        "id": "rKTx5g6NbFSC"
      },
      "source": [
        "rdMolDescriptors.CalcExactMolWt(m) # returns the molecule’s exact molecular weight"
      ],
      "execution_count": null,
      "outputs": []
    },
    {
      "cell_type": "code",
      "metadata": {
        "id": "rTfm3RUa6plN"
      },
      "source": [
        "Descriptors.MolLogP(m) "
      ],
      "execution_count": null,
      "outputs": []
    },
    {
      "cell_type": "code",
      "metadata": {
        "id": "oAnD9Spq6shK"
      },
      "source": [
        "rdMolDescriptors.CalcMolFormula(m) # returns the molecule’s formula"
      ],
      "execution_count": null,
      "outputs": []
    },
    {
      "cell_type": "code",
      "metadata": {
        "id": "-Vnmux1D7B5X"
      },
      "source": [
        "rdMolDescriptors.CalcNumHBA(m) # returns the number of H-bond acceptors for a molecule"
      ],
      "execution_count": null,
      "outputs": []
    },
    {
      "cell_type": "code",
      "metadata": {
        "id": "Mm0R86JL7CqF"
      },
      "source": [
        "rdMolDescriptors.CalcNumHBD(m) # returns the number of H-bond donors for a molecule"
      ],
      "execution_count": null,
      "outputs": []
    },
    {
      "cell_type": "code",
      "metadata": {
        "id": "p3x8ujzT7EjE"
      },
      "source": [
        "# molecule into MACCSKey\n",
        "maccs_fp = GenMACCSKeys(m)\n",
        "maccs_fp.ToBitString()"
      ],
      "execution_count": null,
      "outputs": []
    },
    {
      "cell_type": "code",
      "metadata": {
        "id": "IX2aHmKv7Hsx"
      },
      "source": [
        "# molecule into MorganFingerprint\n",
        "morgan_fp = AllChem.GetMorganFingerprintAsBitVect(m,2, nBits=1024)\n",
        "morgan_fp.ToBitString()"
      ],
      "execution_count": null,
      "outputs": []
    },
    {
      "cell_type": "markdown",
      "metadata": {
        "id": "qTqzmUSd8EZF"
      },
      "source": [
        "## Protein embedding\n"
      ]
    },
    {
      "cell_type": "markdown",
      "metadata": {
        "id": "qfnawWX8AP92"
      },
      "source": [
        "### example - 1 hot embedding"
      ]
    },
    {
      "cell_type": "code",
      "metadata": {
        "id": "Ju3iBhQgR3Lg"
      },
      "source": [
        "from tensorflow.keras.utils import to_categorical\n",
        "from keras.models import Model\n",
        "from keras.layers import Embedding\n",
        "from keras.preprocessing import sequence\n",
        "import pandas as pd\n",
        "import numpy as np"
      ],
      "execution_count": null,
      "outputs": []
    },
    {
      "cell_type": "code",
      "metadata": {
        "id": "YmcBUEjpAQ-f"
      },
      "source": [
        "seq_rdic = ['A','I','L','V','F','W','Y','N','C','Q','M','S','T','D','E','R','H','K','G','P','O','U','X','B','Z']\n",
        "seq_dic = {w: i+1 for i,w in enumerate(seq_rdic)}\n",
        "def encodeSeq(seq, seq_dic):  # change AA to number\n",
        "    if pd.isnull(seq):\n",
        "        return [0]\n",
        "    else:\n",
        "        return [seq_dic[aa] for aa in seq]\n",
        "\n",
        "protein = encodeSeq(\"MPACCSCSDVFQYETNKVTRIQSMNYGTIKWFFHVIIFSYVCFALVDDKK\", seq_dic)\n",
        "protein = sequence.pad_sequences(np.array([protein]) , maxlen=2500)"
      ],
      "execution_count": null,
      "outputs": []
    },
    {
      "cell_type": "code",
      "metadata": {
        "colab": {
          "base_uri": "https://localhost:8080/",
          "height": 419
        },
        "id": "VSdZH6YRSADd",
        "outputId": "a14763f5-d9f1-4942-acd0-c6a35462f5aa"
      },
      "source": [
        "one_hot = to_categorical(protein)\n",
        "one_hot_df = pd.DataFrame(one_hot[0,:,:])\n",
        "one_hot_df"
      ],
      "execution_count": null,
      "outputs": [
        {
          "output_type": "execute_result",
          "data": {
            "text/html": [
              "<div>\n",
              "<style scoped>\n",
              "    .dataframe tbody tr th:only-of-type {\n",
              "        vertical-align: middle;\n",
              "    }\n",
              "\n",
              "    .dataframe tbody tr th {\n",
              "        vertical-align: top;\n",
              "    }\n",
              "\n",
              "    .dataframe thead th {\n",
              "        text-align: right;\n",
              "    }\n",
              "</style>\n",
              "<table border=\"1\" class=\"dataframe\">\n",
              "  <thead>\n",
              "    <tr style=\"text-align: right;\">\n",
              "      <th></th>\n",
              "      <th>0</th>\n",
              "      <th>1</th>\n",
              "      <th>2</th>\n",
              "      <th>3</th>\n",
              "      <th>4</th>\n",
              "      <th>5</th>\n",
              "      <th>6</th>\n",
              "      <th>7</th>\n",
              "      <th>8</th>\n",
              "      <th>9</th>\n",
              "      <th>10</th>\n",
              "      <th>11</th>\n",
              "      <th>12</th>\n",
              "      <th>13</th>\n",
              "      <th>14</th>\n",
              "      <th>15</th>\n",
              "      <th>16</th>\n",
              "      <th>17</th>\n",
              "      <th>18</th>\n",
              "      <th>19</th>\n",
              "      <th>20</th>\n",
              "    </tr>\n",
              "  </thead>\n",
              "  <tbody>\n",
              "    <tr>\n",
              "      <th>0</th>\n",
              "      <td>1.0</td>\n",
              "      <td>0.0</td>\n",
              "      <td>0.0</td>\n",
              "      <td>0.0</td>\n",
              "      <td>0.0</td>\n",
              "      <td>0.0</td>\n",
              "      <td>0.0</td>\n",
              "      <td>0.0</td>\n",
              "      <td>0.0</td>\n",
              "      <td>0.0</td>\n",
              "      <td>0.0</td>\n",
              "      <td>0.0</td>\n",
              "      <td>0.0</td>\n",
              "      <td>0.0</td>\n",
              "      <td>0.0</td>\n",
              "      <td>0.0</td>\n",
              "      <td>0.0</td>\n",
              "      <td>0.0</td>\n",
              "      <td>0.0</td>\n",
              "      <td>0.0</td>\n",
              "      <td>0.0</td>\n",
              "    </tr>\n",
              "    <tr>\n",
              "      <th>1</th>\n",
              "      <td>1.0</td>\n",
              "      <td>0.0</td>\n",
              "      <td>0.0</td>\n",
              "      <td>0.0</td>\n",
              "      <td>0.0</td>\n",
              "      <td>0.0</td>\n",
              "      <td>0.0</td>\n",
              "      <td>0.0</td>\n",
              "      <td>0.0</td>\n",
              "      <td>0.0</td>\n",
              "      <td>0.0</td>\n",
              "      <td>0.0</td>\n",
              "      <td>0.0</td>\n",
              "      <td>0.0</td>\n",
              "      <td>0.0</td>\n",
              "      <td>0.0</td>\n",
              "      <td>0.0</td>\n",
              "      <td>0.0</td>\n",
              "      <td>0.0</td>\n",
              "      <td>0.0</td>\n",
              "      <td>0.0</td>\n",
              "    </tr>\n",
              "    <tr>\n",
              "      <th>2</th>\n",
              "      <td>1.0</td>\n",
              "      <td>0.0</td>\n",
              "      <td>0.0</td>\n",
              "      <td>0.0</td>\n",
              "      <td>0.0</td>\n",
              "      <td>0.0</td>\n",
              "      <td>0.0</td>\n",
              "      <td>0.0</td>\n",
              "      <td>0.0</td>\n",
              "      <td>0.0</td>\n",
              "      <td>0.0</td>\n",
              "      <td>0.0</td>\n",
              "      <td>0.0</td>\n",
              "      <td>0.0</td>\n",
              "      <td>0.0</td>\n",
              "      <td>0.0</td>\n",
              "      <td>0.0</td>\n",
              "      <td>0.0</td>\n",
              "      <td>0.0</td>\n",
              "      <td>0.0</td>\n",
              "      <td>0.0</td>\n",
              "    </tr>\n",
              "    <tr>\n",
              "      <th>3</th>\n",
              "      <td>1.0</td>\n",
              "      <td>0.0</td>\n",
              "      <td>0.0</td>\n",
              "      <td>0.0</td>\n",
              "      <td>0.0</td>\n",
              "      <td>0.0</td>\n",
              "      <td>0.0</td>\n",
              "      <td>0.0</td>\n",
              "      <td>0.0</td>\n",
              "      <td>0.0</td>\n",
              "      <td>0.0</td>\n",
              "      <td>0.0</td>\n",
              "      <td>0.0</td>\n",
              "      <td>0.0</td>\n",
              "      <td>0.0</td>\n",
              "      <td>0.0</td>\n",
              "      <td>0.0</td>\n",
              "      <td>0.0</td>\n",
              "      <td>0.0</td>\n",
              "      <td>0.0</td>\n",
              "      <td>0.0</td>\n",
              "    </tr>\n",
              "    <tr>\n",
              "      <th>4</th>\n",
              "      <td>1.0</td>\n",
              "      <td>0.0</td>\n",
              "      <td>0.0</td>\n",
              "      <td>0.0</td>\n",
              "      <td>0.0</td>\n",
              "      <td>0.0</td>\n",
              "      <td>0.0</td>\n",
              "      <td>0.0</td>\n",
              "      <td>0.0</td>\n",
              "      <td>0.0</td>\n",
              "      <td>0.0</td>\n",
              "      <td>0.0</td>\n",
              "      <td>0.0</td>\n",
              "      <td>0.0</td>\n",
              "      <td>0.0</td>\n",
              "      <td>0.0</td>\n",
              "      <td>0.0</td>\n",
              "      <td>0.0</td>\n",
              "      <td>0.0</td>\n",
              "      <td>0.0</td>\n",
              "      <td>0.0</td>\n",
              "    </tr>\n",
              "    <tr>\n",
              "      <th>...</th>\n",
              "      <td>...</td>\n",
              "      <td>...</td>\n",
              "      <td>...</td>\n",
              "      <td>...</td>\n",
              "      <td>...</td>\n",
              "      <td>...</td>\n",
              "      <td>...</td>\n",
              "      <td>...</td>\n",
              "      <td>...</td>\n",
              "      <td>...</td>\n",
              "      <td>...</td>\n",
              "      <td>...</td>\n",
              "      <td>...</td>\n",
              "      <td>...</td>\n",
              "      <td>...</td>\n",
              "      <td>...</td>\n",
              "      <td>...</td>\n",
              "      <td>...</td>\n",
              "      <td>...</td>\n",
              "      <td>...</td>\n",
              "      <td>...</td>\n",
              "    </tr>\n",
              "    <tr>\n",
              "      <th>2495</th>\n",
              "      <td>0.0</td>\n",
              "      <td>0.0</td>\n",
              "      <td>0.0</td>\n",
              "      <td>0.0</td>\n",
              "      <td>1.0</td>\n",
              "      <td>0.0</td>\n",
              "      <td>0.0</td>\n",
              "      <td>0.0</td>\n",
              "      <td>0.0</td>\n",
              "      <td>0.0</td>\n",
              "      <td>0.0</td>\n",
              "      <td>0.0</td>\n",
              "      <td>0.0</td>\n",
              "      <td>0.0</td>\n",
              "      <td>0.0</td>\n",
              "      <td>0.0</td>\n",
              "      <td>0.0</td>\n",
              "      <td>0.0</td>\n",
              "      <td>0.0</td>\n",
              "      <td>0.0</td>\n",
              "      <td>0.0</td>\n",
              "    </tr>\n",
              "    <tr>\n",
              "      <th>2496</th>\n",
              "      <td>0.0</td>\n",
              "      <td>0.0</td>\n",
              "      <td>0.0</td>\n",
              "      <td>0.0</td>\n",
              "      <td>0.0</td>\n",
              "      <td>0.0</td>\n",
              "      <td>0.0</td>\n",
              "      <td>0.0</td>\n",
              "      <td>0.0</td>\n",
              "      <td>0.0</td>\n",
              "      <td>0.0</td>\n",
              "      <td>0.0</td>\n",
              "      <td>0.0</td>\n",
              "      <td>0.0</td>\n",
              "      <td>1.0</td>\n",
              "      <td>0.0</td>\n",
              "      <td>0.0</td>\n",
              "      <td>0.0</td>\n",
              "      <td>0.0</td>\n",
              "      <td>0.0</td>\n",
              "      <td>0.0</td>\n",
              "    </tr>\n",
              "    <tr>\n",
              "      <th>2497</th>\n",
              "      <td>0.0</td>\n",
              "      <td>0.0</td>\n",
              "      <td>0.0</td>\n",
              "      <td>0.0</td>\n",
              "      <td>0.0</td>\n",
              "      <td>0.0</td>\n",
              "      <td>0.0</td>\n",
              "      <td>0.0</td>\n",
              "      <td>0.0</td>\n",
              "      <td>0.0</td>\n",
              "      <td>0.0</td>\n",
              "      <td>0.0</td>\n",
              "      <td>0.0</td>\n",
              "      <td>0.0</td>\n",
              "      <td>1.0</td>\n",
              "      <td>0.0</td>\n",
              "      <td>0.0</td>\n",
              "      <td>0.0</td>\n",
              "      <td>0.0</td>\n",
              "      <td>0.0</td>\n",
              "      <td>0.0</td>\n",
              "    </tr>\n",
              "    <tr>\n",
              "      <th>2498</th>\n",
              "      <td>0.0</td>\n",
              "      <td>0.0</td>\n",
              "      <td>0.0</td>\n",
              "      <td>0.0</td>\n",
              "      <td>0.0</td>\n",
              "      <td>0.0</td>\n",
              "      <td>0.0</td>\n",
              "      <td>0.0</td>\n",
              "      <td>0.0</td>\n",
              "      <td>0.0</td>\n",
              "      <td>0.0</td>\n",
              "      <td>0.0</td>\n",
              "      <td>0.0</td>\n",
              "      <td>0.0</td>\n",
              "      <td>0.0</td>\n",
              "      <td>0.0</td>\n",
              "      <td>0.0</td>\n",
              "      <td>0.0</td>\n",
              "      <td>1.0</td>\n",
              "      <td>0.0</td>\n",
              "      <td>0.0</td>\n",
              "    </tr>\n",
              "    <tr>\n",
              "      <th>2499</th>\n",
              "      <td>0.0</td>\n",
              "      <td>0.0</td>\n",
              "      <td>0.0</td>\n",
              "      <td>0.0</td>\n",
              "      <td>0.0</td>\n",
              "      <td>0.0</td>\n",
              "      <td>0.0</td>\n",
              "      <td>0.0</td>\n",
              "      <td>0.0</td>\n",
              "      <td>0.0</td>\n",
              "      <td>0.0</td>\n",
              "      <td>0.0</td>\n",
              "      <td>0.0</td>\n",
              "      <td>0.0</td>\n",
              "      <td>0.0</td>\n",
              "      <td>0.0</td>\n",
              "      <td>0.0</td>\n",
              "      <td>0.0</td>\n",
              "      <td>1.0</td>\n",
              "      <td>0.0</td>\n",
              "      <td>0.0</td>\n",
              "    </tr>\n",
              "  </tbody>\n",
              "</table>\n",
              "<p>2500 rows × 21 columns</p>\n",
              "</div>"
            ],
            "text/plain": [
              "       0    1    2    3    4    5    6   ...   14   15   16   17   18   19   20\n",
              "0     1.0  0.0  0.0  0.0  0.0  0.0  0.0  ...  0.0  0.0  0.0  0.0  0.0  0.0  0.0\n",
              "1     1.0  0.0  0.0  0.0  0.0  0.0  0.0  ...  0.0  0.0  0.0  0.0  0.0  0.0  0.0\n",
              "2     1.0  0.0  0.0  0.0  0.0  0.0  0.0  ...  0.0  0.0  0.0  0.0  0.0  0.0  0.0\n",
              "3     1.0  0.0  0.0  0.0  0.0  0.0  0.0  ...  0.0  0.0  0.0  0.0  0.0  0.0  0.0\n",
              "4     1.0  0.0  0.0  0.0  0.0  0.0  0.0  ...  0.0  0.0  0.0  0.0  0.0  0.0  0.0\n",
              "...   ...  ...  ...  ...  ...  ...  ...  ...  ...  ...  ...  ...  ...  ...  ...\n",
              "2495  0.0  0.0  0.0  0.0  1.0  0.0  0.0  ...  0.0  0.0  0.0  0.0  0.0  0.0  0.0\n",
              "2496  0.0  0.0  0.0  0.0  0.0  0.0  0.0  ...  1.0  0.0  0.0  0.0  0.0  0.0  0.0\n",
              "2497  0.0  0.0  0.0  0.0  0.0  0.0  0.0  ...  1.0  0.0  0.0  0.0  0.0  0.0  0.0\n",
              "2498  0.0  0.0  0.0  0.0  0.0  0.0  0.0  ...  0.0  0.0  0.0  0.0  1.0  0.0  0.0\n",
              "2499  0.0  0.0  0.0  0.0  0.0  0.0  0.0  ...  0.0  0.0  0.0  0.0  1.0  0.0  0.0\n",
              "\n",
              "[2500 rows x 21 columns]"
            ]
          },
          "metadata": {
            "tags": []
          },
          "execution_count": 15
        }
      ]
    },
    {
      "cell_type": "markdown",
      "metadata": {
        "id": "WpNZjuc3AJYx"
      },
      "source": [
        "### example - Keras integer encoding / adopted from DeepConv-DTI"
      ]
    },
    {
      "cell_type": "code",
      "metadata": {
        "id": "frAspag_7J3N"
      },
      "source": [
        "from keras.models import Model\n",
        "from keras.layers import Input, Embedding\n",
        "from keras.preprocessing import sequence\n",
        "import pandas as pd\n",
        "import numpy as np"
      ],
      "execution_count": null,
      "outputs": []
    },
    {
      "cell_type": "code",
      "metadata": {
        "id": "lrlzVbk-K4TO"
      },
      "source": [
        "seq_rdic = ['A','I','L','V','F','W','Y','N','C','Q','M','S','T','D','E','R','H','K','G','P','O','U','X','B','Z']\n",
        "seq_dic = {w: i+1 for i,w in enumerate(seq_rdic)}\n",
        "def encodeSeq(seq, seq_dic):  # change AA to number\n",
        "    if pd.isnull(seq):\n",
        "        return [0]\n",
        "    else:\n",
        "        return [seq_dic[aa] for aa in seq]\n",
        "\n",
        "protein = encodeSeq(\"MPACCSCSDVFQYETNKVTRIQSMNYGTIKWFFHVIIFSYVCFALVDDKK\", seq_dic)\n",
        "protein = sequence.pad_sequences(np.array([protein]) , maxlen=2500)"
      ],
      "execution_count": null,
      "outputs": []
    },
    {
      "cell_type": "code",
      "metadata": {
        "colab": {
          "base_uri": "https://localhost:8080/",
          "height": 129
        },
        "id": "oeURAtfFK6U2",
        "outputId": "86eecdb6-d90c-4e3f-d3b3-473f9f99e426"
      },
      "source": [
        "protein_df = pd.DataFrame(protein)\n",
        "protein_df"
      ],
      "execution_count": null,
      "outputs": [
        {
          "output_type": "execute_result",
          "data": {
            "text/html": [
              "<div>\n",
              "<style scoped>\n",
              "    .dataframe tbody tr th:only-of-type {\n",
              "        vertical-align: middle;\n",
              "    }\n",
              "\n",
              "    .dataframe tbody tr th {\n",
              "        vertical-align: top;\n",
              "    }\n",
              "\n",
              "    .dataframe thead th {\n",
              "        text-align: right;\n",
              "    }\n",
              "</style>\n",
              "<table border=\"1\" class=\"dataframe\">\n",
              "  <thead>\n",
              "    <tr style=\"text-align: right;\">\n",
              "      <th></th>\n",
              "      <th>0</th>\n",
              "      <th>1</th>\n",
              "      <th>2</th>\n",
              "      <th>3</th>\n",
              "      <th>4</th>\n",
              "      <th>5</th>\n",
              "      <th>6</th>\n",
              "      <th>7</th>\n",
              "      <th>8</th>\n",
              "      <th>9</th>\n",
              "      <th>10</th>\n",
              "      <th>11</th>\n",
              "      <th>12</th>\n",
              "      <th>13</th>\n",
              "      <th>14</th>\n",
              "      <th>15</th>\n",
              "      <th>16</th>\n",
              "      <th>17</th>\n",
              "      <th>18</th>\n",
              "      <th>19</th>\n",
              "      <th>20</th>\n",
              "      <th>21</th>\n",
              "      <th>22</th>\n",
              "      <th>23</th>\n",
              "      <th>24</th>\n",
              "      <th>25</th>\n",
              "      <th>26</th>\n",
              "      <th>27</th>\n",
              "      <th>28</th>\n",
              "      <th>29</th>\n",
              "      <th>30</th>\n",
              "      <th>31</th>\n",
              "      <th>32</th>\n",
              "      <th>33</th>\n",
              "      <th>34</th>\n",
              "      <th>35</th>\n",
              "      <th>36</th>\n",
              "      <th>37</th>\n",
              "      <th>38</th>\n",
              "      <th>39</th>\n",
              "      <th>...</th>\n",
              "      <th>2460</th>\n",
              "      <th>2461</th>\n",
              "      <th>2462</th>\n",
              "      <th>2463</th>\n",
              "      <th>2464</th>\n",
              "      <th>2465</th>\n",
              "      <th>2466</th>\n",
              "      <th>2467</th>\n",
              "      <th>2468</th>\n",
              "      <th>2469</th>\n",
              "      <th>2470</th>\n",
              "      <th>2471</th>\n",
              "      <th>2472</th>\n",
              "      <th>2473</th>\n",
              "      <th>2474</th>\n",
              "      <th>2475</th>\n",
              "      <th>2476</th>\n",
              "      <th>2477</th>\n",
              "      <th>2478</th>\n",
              "      <th>2479</th>\n",
              "      <th>2480</th>\n",
              "      <th>2481</th>\n",
              "      <th>2482</th>\n",
              "      <th>2483</th>\n",
              "      <th>2484</th>\n",
              "      <th>2485</th>\n",
              "      <th>2486</th>\n",
              "      <th>2487</th>\n",
              "      <th>2488</th>\n",
              "      <th>2489</th>\n",
              "      <th>2490</th>\n",
              "      <th>2491</th>\n",
              "      <th>2492</th>\n",
              "      <th>2493</th>\n",
              "      <th>2494</th>\n",
              "      <th>2495</th>\n",
              "      <th>2496</th>\n",
              "      <th>2497</th>\n",
              "      <th>2498</th>\n",
              "      <th>2499</th>\n",
              "    </tr>\n",
              "  </thead>\n",
              "  <tbody>\n",
              "    <tr>\n",
              "      <th>0</th>\n",
              "      <td>0</td>\n",
              "      <td>0</td>\n",
              "      <td>0</td>\n",
              "      <td>0</td>\n",
              "      <td>0</td>\n",
              "      <td>0</td>\n",
              "      <td>0</td>\n",
              "      <td>0</td>\n",
              "      <td>0</td>\n",
              "      <td>0</td>\n",
              "      <td>0</td>\n",
              "      <td>0</td>\n",
              "      <td>0</td>\n",
              "      <td>0</td>\n",
              "      <td>0</td>\n",
              "      <td>0</td>\n",
              "      <td>0</td>\n",
              "      <td>0</td>\n",
              "      <td>0</td>\n",
              "      <td>0</td>\n",
              "      <td>0</td>\n",
              "      <td>0</td>\n",
              "      <td>0</td>\n",
              "      <td>0</td>\n",
              "      <td>0</td>\n",
              "      <td>0</td>\n",
              "      <td>0</td>\n",
              "      <td>0</td>\n",
              "      <td>0</td>\n",
              "      <td>0</td>\n",
              "      <td>0</td>\n",
              "      <td>0</td>\n",
              "      <td>0</td>\n",
              "      <td>0</td>\n",
              "      <td>0</td>\n",
              "      <td>0</td>\n",
              "      <td>0</td>\n",
              "      <td>0</td>\n",
              "      <td>0</td>\n",
              "      <td>0</td>\n",
              "      <td>...</td>\n",
              "      <td>5</td>\n",
              "      <td>10</td>\n",
              "      <td>7</td>\n",
              "      <td>15</td>\n",
              "      <td>13</td>\n",
              "      <td>8</td>\n",
              "      <td>18</td>\n",
              "      <td>4</td>\n",
              "      <td>13</td>\n",
              "      <td>16</td>\n",
              "      <td>2</td>\n",
              "      <td>10</td>\n",
              "      <td>12</td>\n",
              "      <td>11</td>\n",
              "      <td>8</td>\n",
              "      <td>7</td>\n",
              "      <td>19</td>\n",
              "      <td>13</td>\n",
              "      <td>2</td>\n",
              "      <td>18</td>\n",
              "      <td>6</td>\n",
              "      <td>5</td>\n",
              "      <td>5</td>\n",
              "      <td>17</td>\n",
              "      <td>4</td>\n",
              "      <td>2</td>\n",
              "      <td>2</td>\n",
              "      <td>5</td>\n",
              "      <td>12</td>\n",
              "      <td>7</td>\n",
              "      <td>4</td>\n",
              "      <td>9</td>\n",
              "      <td>5</td>\n",
              "      <td>1</td>\n",
              "      <td>3</td>\n",
              "      <td>4</td>\n",
              "      <td>14</td>\n",
              "      <td>14</td>\n",
              "      <td>18</td>\n",
              "      <td>18</td>\n",
              "    </tr>\n",
              "  </tbody>\n",
              "</table>\n",
              "<p>1 rows × 2500 columns</p>\n",
              "</div>"
            ],
            "text/plain": [
              "   0     1     2     3     4     5     ...  2494  2495  2496  2497  2498  2499\n",
              "0     0     0     0     0     0     0  ...     3     4    14    14    18    18\n",
              "\n",
              "[1 rows x 2500 columns]"
            ]
          },
          "metadata": {
            "tags": []
          },
          "execution_count": 18
        }
      ]
    },
    {
      "cell_type": "code",
      "metadata": {
        "id": "ytmZ12Q07m8R"
      },
      "source": [
        "input_p = Input(shape=(2500,))\n",
        "model_p = Embedding(26,20)(input_p) # Keras embedding layer\n",
        "\n",
        "model_embedding = Model(inputs=[input_p], outputs=model_p)\n",
        "protein_embedding = model_embedding.predict([protein])"
      ],
      "execution_count": null,
      "outputs": []
    },
    {
      "cell_type": "code",
      "metadata": {
        "colab": {
          "base_uri": "https://localhost:8080/"
        },
        "id": "ZLC-aoAx8cLQ",
        "outputId": "9576d74b-1d55-42dd-be9a-47690eccd1aa"
      },
      "source": [
        "protein_embedding"
      ],
      "execution_count": null,
      "outputs": [
        {
          "output_type": "execute_result",
          "data": {
            "text/plain": [
              "array([[[ 0.02796635, -0.02285252, -0.01567079, ..., -0.01765518,\n",
              "         -0.01329537,  0.0166272 ],\n",
              "        [ 0.02796635, -0.02285252, -0.01567079, ..., -0.01765518,\n",
              "         -0.01329537,  0.0166272 ],\n",
              "        [ 0.02796635, -0.02285252, -0.01567079, ..., -0.01765518,\n",
              "         -0.01329537,  0.0166272 ],\n",
              "        ...,\n",
              "        [ 0.00628328, -0.02531121,  0.02676379, ..., -0.04914433,\n",
              "          0.01696781, -0.04917204],\n",
              "        [ 0.01488573, -0.01522392, -0.03500531, ...,  0.04755663,\n",
              "         -0.0210974 , -0.02338868],\n",
              "        [ 0.01488573, -0.01522392, -0.03500531, ...,  0.04755663,\n",
              "         -0.0210974 , -0.02338868]]], dtype=float32)"
            ]
          },
          "metadata": {
            "tags": []
          },
          "execution_count": 20
        }
      ]
    },
    {
      "cell_type": "code",
      "metadata": {
        "colab": {
          "base_uri": "https://localhost:8080/"
        },
        "id": "Uz-PfCS5-UQ-",
        "outputId": "053e55b3-a32b-4e8d-9c8f-03af0541ac4c"
      },
      "source": [
        "print (protein_embedding.shape)\n",
        "type(protein_embedding)"
      ],
      "execution_count": null,
      "outputs": [
        {
          "output_type": "stream",
          "text": [
            "(1, 2500, 20)\n"
          ],
          "name": "stdout"
        },
        {
          "output_type": "execute_result",
          "data": {
            "text/plain": [
              "numpy.ndarray"
            ]
          },
          "metadata": {
            "tags": []
          },
          "execution_count": 21
        }
      ]
    },
    {
      "cell_type": "code",
      "metadata": {
        "id": "z1QLLv0bA8Km"
      },
      "source": [
        "embedding_df = pd.DataFrame(protein_embedding[0,:,:])"
      ],
      "execution_count": null,
      "outputs": []
    },
    {
      "cell_type": "code",
      "metadata": {
        "colab": {
          "base_uri": "https://localhost:8080/",
          "height": 439
        },
        "id": "DHN84sE-B_2m",
        "outputId": "34e3fe1c-b41c-47ba-91a3-ae5ccb13e494"
      },
      "source": [
        "embedding_df"
      ],
      "execution_count": null,
      "outputs": [
        {
          "output_type": "execute_result",
          "data": {
            "text/html": [
              "<div>\n",
              "<style scoped>\n",
              "    .dataframe tbody tr th:only-of-type {\n",
              "        vertical-align: middle;\n",
              "    }\n",
              "\n",
              "    .dataframe tbody tr th {\n",
              "        vertical-align: top;\n",
              "    }\n",
              "\n",
              "    .dataframe thead th {\n",
              "        text-align: right;\n",
              "    }\n",
              "</style>\n",
              "<table border=\"1\" class=\"dataframe\">\n",
              "  <thead>\n",
              "    <tr style=\"text-align: right;\">\n",
              "      <th></th>\n",
              "      <th>0</th>\n",
              "      <th>1</th>\n",
              "      <th>2</th>\n",
              "      <th>3</th>\n",
              "      <th>4</th>\n",
              "      <th>5</th>\n",
              "      <th>6</th>\n",
              "      <th>7</th>\n",
              "      <th>8</th>\n",
              "      <th>9</th>\n",
              "      <th>10</th>\n",
              "      <th>11</th>\n",
              "      <th>12</th>\n",
              "      <th>13</th>\n",
              "      <th>14</th>\n",
              "      <th>15</th>\n",
              "      <th>16</th>\n",
              "      <th>17</th>\n",
              "      <th>18</th>\n",
              "      <th>19</th>\n",
              "    </tr>\n",
              "  </thead>\n",
              "  <tbody>\n",
              "    <tr>\n",
              "      <th>0</th>\n",
              "      <td>0.027966</td>\n",
              "      <td>-0.022853</td>\n",
              "      <td>-0.015671</td>\n",
              "      <td>-0.016536</td>\n",
              "      <td>0.030555</td>\n",
              "      <td>-0.016744</td>\n",
              "      <td>-0.012349</td>\n",
              "      <td>0.034835</td>\n",
              "      <td>-0.004321</td>\n",
              "      <td>-0.044527</td>\n",
              "      <td>0.022911</td>\n",
              "      <td>0.038945</td>\n",
              "      <td>0.022235</td>\n",
              "      <td>-0.015541</td>\n",
              "      <td>-0.017239</td>\n",
              "      <td>0.028315</td>\n",
              "      <td>-0.009742</td>\n",
              "      <td>-0.017655</td>\n",
              "      <td>-0.013295</td>\n",
              "      <td>0.016627</td>\n",
              "    </tr>\n",
              "    <tr>\n",
              "      <th>1</th>\n",
              "      <td>0.027966</td>\n",
              "      <td>-0.022853</td>\n",
              "      <td>-0.015671</td>\n",
              "      <td>-0.016536</td>\n",
              "      <td>0.030555</td>\n",
              "      <td>-0.016744</td>\n",
              "      <td>-0.012349</td>\n",
              "      <td>0.034835</td>\n",
              "      <td>-0.004321</td>\n",
              "      <td>-0.044527</td>\n",
              "      <td>0.022911</td>\n",
              "      <td>0.038945</td>\n",
              "      <td>0.022235</td>\n",
              "      <td>-0.015541</td>\n",
              "      <td>-0.017239</td>\n",
              "      <td>0.028315</td>\n",
              "      <td>-0.009742</td>\n",
              "      <td>-0.017655</td>\n",
              "      <td>-0.013295</td>\n",
              "      <td>0.016627</td>\n",
              "    </tr>\n",
              "    <tr>\n",
              "      <th>2</th>\n",
              "      <td>0.027966</td>\n",
              "      <td>-0.022853</td>\n",
              "      <td>-0.015671</td>\n",
              "      <td>-0.016536</td>\n",
              "      <td>0.030555</td>\n",
              "      <td>-0.016744</td>\n",
              "      <td>-0.012349</td>\n",
              "      <td>0.034835</td>\n",
              "      <td>-0.004321</td>\n",
              "      <td>-0.044527</td>\n",
              "      <td>0.022911</td>\n",
              "      <td>0.038945</td>\n",
              "      <td>0.022235</td>\n",
              "      <td>-0.015541</td>\n",
              "      <td>-0.017239</td>\n",
              "      <td>0.028315</td>\n",
              "      <td>-0.009742</td>\n",
              "      <td>-0.017655</td>\n",
              "      <td>-0.013295</td>\n",
              "      <td>0.016627</td>\n",
              "    </tr>\n",
              "    <tr>\n",
              "      <th>3</th>\n",
              "      <td>0.027966</td>\n",
              "      <td>-0.022853</td>\n",
              "      <td>-0.015671</td>\n",
              "      <td>-0.016536</td>\n",
              "      <td>0.030555</td>\n",
              "      <td>-0.016744</td>\n",
              "      <td>-0.012349</td>\n",
              "      <td>0.034835</td>\n",
              "      <td>-0.004321</td>\n",
              "      <td>-0.044527</td>\n",
              "      <td>0.022911</td>\n",
              "      <td>0.038945</td>\n",
              "      <td>0.022235</td>\n",
              "      <td>-0.015541</td>\n",
              "      <td>-0.017239</td>\n",
              "      <td>0.028315</td>\n",
              "      <td>-0.009742</td>\n",
              "      <td>-0.017655</td>\n",
              "      <td>-0.013295</td>\n",
              "      <td>0.016627</td>\n",
              "    </tr>\n",
              "    <tr>\n",
              "      <th>4</th>\n",
              "      <td>0.027966</td>\n",
              "      <td>-0.022853</td>\n",
              "      <td>-0.015671</td>\n",
              "      <td>-0.016536</td>\n",
              "      <td>0.030555</td>\n",
              "      <td>-0.016744</td>\n",
              "      <td>-0.012349</td>\n",
              "      <td>0.034835</td>\n",
              "      <td>-0.004321</td>\n",
              "      <td>-0.044527</td>\n",
              "      <td>0.022911</td>\n",
              "      <td>0.038945</td>\n",
              "      <td>0.022235</td>\n",
              "      <td>-0.015541</td>\n",
              "      <td>-0.017239</td>\n",
              "      <td>0.028315</td>\n",
              "      <td>-0.009742</td>\n",
              "      <td>-0.017655</td>\n",
              "      <td>-0.013295</td>\n",
              "      <td>0.016627</td>\n",
              "    </tr>\n",
              "    <tr>\n",
              "      <th>...</th>\n",
              "      <td>...</td>\n",
              "      <td>...</td>\n",
              "      <td>...</td>\n",
              "      <td>...</td>\n",
              "      <td>...</td>\n",
              "      <td>...</td>\n",
              "      <td>...</td>\n",
              "      <td>...</td>\n",
              "      <td>...</td>\n",
              "      <td>...</td>\n",
              "      <td>...</td>\n",
              "      <td>...</td>\n",
              "      <td>...</td>\n",
              "      <td>...</td>\n",
              "      <td>...</td>\n",
              "      <td>...</td>\n",
              "      <td>...</td>\n",
              "      <td>...</td>\n",
              "      <td>...</td>\n",
              "      <td>...</td>\n",
              "    </tr>\n",
              "    <tr>\n",
              "      <th>2495</th>\n",
              "      <td>-0.020901</td>\n",
              "      <td>-0.030004</td>\n",
              "      <td>-0.002188</td>\n",
              "      <td>-0.020266</td>\n",
              "      <td>-0.034022</td>\n",
              "      <td>-0.033888</td>\n",
              "      <td>-0.024090</td>\n",
              "      <td>0.005681</td>\n",
              "      <td>-0.036582</td>\n",
              "      <td>0.047582</td>\n",
              "      <td>0.048017</td>\n",
              "      <td>-0.013654</td>\n",
              "      <td>0.004454</td>\n",
              "      <td>-0.014047</td>\n",
              "      <td>0.034650</td>\n",
              "      <td>-0.041141</td>\n",
              "      <td>0.048812</td>\n",
              "      <td>-0.001794</td>\n",
              "      <td>0.014851</td>\n",
              "      <td>-0.039003</td>\n",
              "    </tr>\n",
              "    <tr>\n",
              "      <th>2496</th>\n",
              "      <td>0.006283</td>\n",
              "      <td>-0.025311</td>\n",
              "      <td>0.026764</td>\n",
              "      <td>0.048657</td>\n",
              "      <td>-0.000552</td>\n",
              "      <td>-0.016682</td>\n",
              "      <td>-0.045210</td>\n",
              "      <td>0.039489</td>\n",
              "      <td>0.045329</td>\n",
              "      <td>-0.013962</td>\n",
              "      <td>-0.013657</td>\n",
              "      <td>-0.034154</td>\n",
              "      <td>0.020713</td>\n",
              "      <td>-0.045432</td>\n",
              "      <td>0.023333</td>\n",
              "      <td>-0.033562</td>\n",
              "      <td>-0.008607</td>\n",
              "      <td>-0.049144</td>\n",
              "      <td>0.016968</td>\n",
              "      <td>-0.049172</td>\n",
              "    </tr>\n",
              "    <tr>\n",
              "      <th>2497</th>\n",
              "      <td>0.006283</td>\n",
              "      <td>-0.025311</td>\n",
              "      <td>0.026764</td>\n",
              "      <td>0.048657</td>\n",
              "      <td>-0.000552</td>\n",
              "      <td>-0.016682</td>\n",
              "      <td>-0.045210</td>\n",
              "      <td>0.039489</td>\n",
              "      <td>0.045329</td>\n",
              "      <td>-0.013962</td>\n",
              "      <td>-0.013657</td>\n",
              "      <td>-0.034154</td>\n",
              "      <td>0.020713</td>\n",
              "      <td>-0.045432</td>\n",
              "      <td>0.023333</td>\n",
              "      <td>-0.033562</td>\n",
              "      <td>-0.008607</td>\n",
              "      <td>-0.049144</td>\n",
              "      <td>0.016968</td>\n",
              "      <td>-0.049172</td>\n",
              "    </tr>\n",
              "    <tr>\n",
              "      <th>2498</th>\n",
              "      <td>0.014886</td>\n",
              "      <td>-0.015224</td>\n",
              "      <td>-0.035005</td>\n",
              "      <td>-0.009012</td>\n",
              "      <td>-0.031761</td>\n",
              "      <td>-0.035822</td>\n",
              "      <td>0.000281</td>\n",
              "      <td>-0.034790</td>\n",
              "      <td>0.043411</td>\n",
              "      <td>-0.040869</td>\n",
              "      <td>0.029212</td>\n",
              "      <td>0.045371</td>\n",
              "      <td>-0.024615</td>\n",
              "      <td>0.003762</td>\n",
              "      <td>-0.007901</td>\n",
              "      <td>-0.003016</td>\n",
              "      <td>0.004582</td>\n",
              "      <td>0.047557</td>\n",
              "      <td>-0.021097</td>\n",
              "      <td>-0.023389</td>\n",
              "    </tr>\n",
              "    <tr>\n",
              "      <th>2499</th>\n",
              "      <td>0.014886</td>\n",
              "      <td>-0.015224</td>\n",
              "      <td>-0.035005</td>\n",
              "      <td>-0.009012</td>\n",
              "      <td>-0.031761</td>\n",
              "      <td>-0.035822</td>\n",
              "      <td>0.000281</td>\n",
              "      <td>-0.034790</td>\n",
              "      <td>0.043411</td>\n",
              "      <td>-0.040869</td>\n",
              "      <td>0.029212</td>\n",
              "      <td>0.045371</td>\n",
              "      <td>-0.024615</td>\n",
              "      <td>0.003762</td>\n",
              "      <td>-0.007901</td>\n",
              "      <td>-0.003016</td>\n",
              "      <td>0.004582</td>\n",
              "      <td>0.047557</td>\n",
              "      <td>-0.021097</td>\n",
              "      <td>-0.023389</td>\n",
              "    </tr>\n",
              "  </tbody>\n",
              "</table>\n",
              "<p>2500 rows × 20 columns</p>\n",
              "</div>"
            ],
            "text/plain": [
              "            0         1         2   ...        17        18        19\n",
              "0     0.027966 -0.022853 -0.015671  ... -0.017655 -0.013295  0.016627\n",
              "1     0.027966 -0.022853 -0.015671  ... -0.017655 -0.013295  0.016627\n",
              "2     0.027966 -0.022853 -0.015671  ... -0.017655 -0.013295  0.016627\n",
              "3     0.027966 -0.022853 -0.015671  ... -0.017655 -0.013295  0.016627\n",
              "4     0.027966 -0.022853 -0.015671  ... -0.017655 -0.013295  0.016627\n",
              "...        ...       ...       ...  ...       ...       ...       ...\n",
              "2495 -0.020901 -0.030004 -0.002188  ... -0.001794  0.014851 -0.039003\n",
              "2496  0.006283 -0.025311  0.026764  ... -0.049144  0.016968 -0.049172\n",
              "2497  0.006283 -0.025311  0.026764  ... -0.049144  0.016968 -0.049172\n",
              "2498  0.014886 -0.015224 -0.035005  ...  0.047557 -0.021097 -0.023389\n",
              "2499  0.014886 -0.015224 -0.035005  ...  0.047557 -0.021097 -0.023389\n",
              "\n",
              "[2500 rows x 20 columns]"
            ]
          },
          "metadata": {
            "tags": []
          },
          "execution_count": 23
        }
      ]
    },
    {
      "cell_type": "code",
      "metadata": {
        "colab": {
          "base_uri": "https://localhost:8080/"
        },
        "id": "Uewd5w_GTBLB",
        "outputId": "47947e1b-d39f-408b-dcaf-dab26215f768"
      },
      "source": [
        "\n",
        "aaa = protein_embedding[0,1,:]\n",
        "print (aaa)\n",
        "np.sqrt(aaa)"
      ],
      "execution_count": null,
      "outputs": [
        {
          "output_type": "stream",
          "text": [
            "[ 0.02796635 -0.02285252 -0.01567079 -0.0165356   0.03055452 -0.01674402\n",
            " -0.01234943  0.03483542 -0.00432129 -0.04452665  0.02291074  0.03894487\n",
            "  0.0222354  -0.01554086 -0.01723867  0.02831483 -0.00974164 -0.01765518\n",
            " -0.01329537  0.0166272 ]\n"
          ],
          "name": "stdout"
        },
        {
          "output_type": "stream",
          "text": [
            "/usr/local/lib/python3.7/dist-packages/ipykernel_launcher.py:4: RuntimeWarning: invalid value encountered in sqrt\n",
            "  after removing the cwd from sys.path.\n"
          ],
          "name": "stderr"
        },
        {
          "output_type": "execute_result",
          "data": {
            "text/plain": [
              "array([0.16723141,        nan,        nan,        nan, 0.17479852,\n",
              "              nan,        nan, 0.1866425 ,        nan,        nan,\n",
              "       0.15136294, 0.19734454, 0.14911538,        nan,        nan,\n",
              "       0.16827011,        nan,        nan,        nan, 0.12894651],\n",
              "      dtype=float32)"
            ]
          },
          "metadata": {
            "tags": []
          },
          "execution_count": 24
        }
      ]
    },
    {
      "cell_type": "code",
      "metadata": {
        "id": "rVX5Y6Tu_iV1"
      },
      "source": [
        ""
      ],
      "execution_count": null,
      "outputs": []
    }
  ]
}